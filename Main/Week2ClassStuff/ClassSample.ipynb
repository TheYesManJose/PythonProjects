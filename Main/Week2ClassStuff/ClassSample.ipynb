{
 "cells": [
  {
   "cell_type": "code",
   "execution_count": null,
   "metadata": {},
   "outputs": [],
   "source": []
  },
  {
   "cell_type": "code",
   "execution_count": 1,
   "metadata": {},
   "outputs": [],
   "source": [
    "%matplotlib inline\n",
    "import matplotlib.pyplot as plt\n",
    "import pandas as pd\n",
    "import numpy as np"
   ]
  },
  {
   "cell_type": "code",
   "execution_count": 16,
   "metadata": {},
   "outputs": [],
   "source": [
    "df = pd.read_csv('data/peopleData.csv')"
   ]
  },
  {
   "cell_type": "code",
   "execution_count": 20,
   "metadata": {},
   "outputs": [
    {
     "data": {
      "text/html": [
       "<div>\n",
       "<style scoped>\n",
       "    .dataframe tbody tr th:only-of-type {\n",
       "        vertical-align: middle;\n",
       "    }\n",
       "\n",
       "    .dataframe tbody tr th {\n",
       "        vertical-align: top;\n",
       "    }\n",
       "\n",
       "    .dataframe thead th {\n",
       "        text-align: right;\n",
       "    }\n",
       "</style>\n",
       "<table border=\"1\" class=\"dataframe\">\n",
       "  <thead>\n",
       "    <tr style=\"text-align: right;\">\n",
       "      <th></th>\n",
       "      <th>first_name</th>\n",
       "      <th>last_name</th>\n",
       "      <th>company_name</th>\n",
       "      <th>address</th>\n",
       "      <th>city</th>\n",
       "      <th>county</th>\n",
       "      <th>state</th>\n",
       "      <th>zip</th>\n",
       "      <th>phone1</th>\n",
       "      <th>phone2</th>\n",
       "      <th>email</th>\n",
       "      <th>web</th>\n",
       "    </tr>\n",
       "  </thead>\n",
       "  <tbody>\n",
       "    <tr>\n",
       "      <th>0</th>\n",
       "      <td>James</td>\n",
       "      <td>Butt</td>\n",
       "      <td>Benton, John B Jr</td>\n",
       "      <td>6649 N Blue Gum St</td>\n",
       "      <td>New Orleans</td>\n",
       "      <td>Orleans</td>\n",
       "      <td>LA</td>\n",
       "      <td>70116</td>\n",
       "      <td>504-621-8927</td>\n",
       "      <td>504-845-1427</td>\n",
       "      <td>jbutt@gmail.com</td>\n",
       "      <td>http://www.bentonjohnbjr.com</td>\n",
       "    </tr>\n",
       "    <tr>\n",
       "      <th>1</th>\n",
       "      <td>Josephine</td>\n",
       "      <td>Darakjy</td>\n",
       "      <td>Chanay, Jeffrey A Esq</td>\n",
       "      <td>4 B Blue Ridge Blvd</td>\n",
       "      <td>Brighton</td>\n",
       "      <td>Livingston</td>\n",
       "      <td>MI</td>\n",
       "      <td>48116</td>\n",
       "      <td>810-292-9388</td>\n",
       "      <td>810-374-9840</td>\n",
       "      <td>josephine_darakjy@darakjy.org</td>\n",
       "      <td>http://www.chanayjeffreyaesq.com</td>\n",
       "    </tr>\n",
       "    <tr>\n",
       "      <th>2</th>\n",
       "      <td>Art</td>\n",
       "      <td>Venere</td>\n",
       "      <td>Chemel, James L Cpa</td>\n",
       "      <td>8 W Cerritos Ave #54</td>\n",
       "      <td>Bridgeport</td>\n",
       "      <td>Gloucester</td>\n",
       "      <td>NJ</td>\n",
       "      <td>8014</td>\n",
       "      <td>856-636-8749</td>\n",
       "      <td>856-264-4130</td>\n",
       "      <td>art@venere.org</td>\n",
       "      <td>http://www.chemeljameslcpa.com</td>\n",
       "    </tr>\n",
       "    <tr>\n",
       "      <th>3</th>\n",
       "      <td>Lenna</td>\n",
       "      <td>Paprocki</td>\n",
       "      <td>Feltz Printing Service</td>\n",
       "      <td>639 Main St</td>\n",
       "      <td>Anchorage</td>\n",
       "      <td>Anchorage</td>\n",
       "      <td>AK</td>\n",
       "      <td>99501</td>\n",
       "      <td>907-385-4412</td>\n",
       "      <td>907-921-2010</td>\n",
       "      <td>lpaprocki@hotmail.com</td>\n",
       "      <td>http://www.feltzprintingservice.com</td>\n",
       "    </tr>\n",
       "    <tr>\n",
       "      <th>4</th>\n",
       "      <td>Donette</td>\n",
       "      <td>Foller</td>\n",
       "      <td>Printing Dimensions</td>\n",
       "      <td>34 Center St</td>\n",
       "      <td>Hamilton</td>\n",
       "      <td>Butler</td>\n",
       "      <td>OH</td>\n",
       "      <td>45011</td>\n",
       "      <td>513-570-1893</td>\n",
       "      <td>513-549-4561</td>\n",
       "      <td>donette.foller@cox.net</td>\n",
       "      <td>http://www.printingdimensions.com</td>\n",
       "    </tr>\n",
       "  </tbody>\n",
       "</table>\n",
       "</div>"
      ],
      "text/plain": [
       "  first_name last_name            company_name               address  \\\n",
       "0      James      Butt       Benton, John B Jr    6649 N Blue Gum St   \n",
       "1  Josephine   Darakjy   Chanay, Jeffrey A Esq   4 B Blue Ridge Blvd   \n",
       "2        Art    Venere     Chemel, James L Cpa  8 W Cerritos Ave #54   \n",
       "3      Lenna  Paprocki  Feltz Printing Service           639 Main St   \n",
       "4    Donette    Foller     Printing Dimensions          34 Center St   \n",
       "\n",
       "          city      county state    zip        phone1        phone2  \\\n",
       "0  New Orleans     Orleans    LA  70116  504-621-8927  504-845-1427   \n",
       "1     Brighton  Livingston    MI  48116  810-292-9388  810-374-9840   \n",
       "2   Bridgeport  Gloucester    NJ   8014  856-636-8749  856-264-4130   \n",
       "3    Anchorage   Anchorage    AK  99501  907-385-4412  907-921-2010   \n",
       "4     Hamilton      Butler    OH  45011  513-570-1893  513-549-4561   \n",
       "\n",
       "                           email                                  web  \n",
       "0                jbutt@gmail.com         http://www.bentonjohnbjr.com  \n",
       "1  josephine_darakjy@darakjy.org     http://www.chanayjeffreyaesq.com  \n",
       "2                 art@venere.org       http://www.chemeljameslcpa.com  \n",
       "3          lpaprocki@hotmail.com  http://www.feltzprintingservice.com  \n",
       "4         donette.foller@cox.net    http://www.printingdimensions.com  "
      ]
     },
     "execution_count": 20,
     "metadata": {},
     "output_type": "execute_result"
    }
   ],
   "source": [
    "df.head()"
   ]
  },
  {
   "cell_type": "code",
   "execution_count": 21,
   "metadata": {},
   "outputs": [
    {
     "data": {
      "text/plain": [
       "CA    72\n",
       "NJ    52\n",
       "NY    46\n",
       "Name: state, dtype: int64"
      ]
     },
     "execution_count": 21,
     "metadata": {},
     "output_type": "execute_result"
    }
   ],
   "source": [
    "df['state'].value_counts().head(3)"
   ]
  },
  {
   "cell_type": "code",
   "execution_count": 25,
   "metadata": {},
   "outputs": [
    {
     "data": {
      "text/plain": [
       "0    False\n",
       "1    False\n",
       "2    False\n",
       "3    False\n",
       "Name: state, dtype: bool"
      ]
     },
     "execution_count": 25,
     "metadata": {},
     "output_type": "execute_result"
    }
   ],
   "source": [
    "df['state'].head(4) == 'NY'"
   ]
  },
  {
   "cell_type": "code",
   "execution_count": 28,
   "metadata": {},
   "outputs": [
    {
     "data": {
      "text/html": [
       "<div>\n",
       "<style scoped>\n",
       "    .dataframe tbody tr th:only-of-type {\n",
       "        vertical-align: middle;\n",
       "    }\n",
       "\n",
       "    .dataframe tbody tr th {\n",
       "        vertical-align: top;\n",
       "    }\n",
       "\n",
       "    .dataframe thead th {\n",
       "        text-align: right;\n",
       "    }\n",
       "</style>\n",
       "<table border=\"1\" class=\"dataframe\">\n",
       "  <thead>\n",
       "    <tr style=\"text-align: right;\">\n",
       "      <th></th>\n",
       "      <th>first_name</th>\n",
       "      <th>last_name</th>\n",
       "      <th>company_name</th>\n",
       "      <th>address</th>\n",
       "      <th>city</th>\n",
       "      <th>county</th>\n",
       "      <th>state</th>\n",
       "      <th>zip</th>\n",
       "      <th>phone1</th>\n",
       "      <th>phone2</th>\n",
       "      <th>email</th>\n",
       "      <th>web</th>\n",
       "    </tr>\n",
       "  </thead>\n",
       "  <tbody>\n",
       "    <tr>\n",
       "      <th>11</th>\n",
       "      <td>Abel</td>\n",
       "      <td>Maclead</td>\n",
       "      <td>Rangoni Of Florence</td>\n",
       "      <td>37275 St  Rt 17m M</td>\n",
       "      <td>Middle Island</td>\n",
       "      <td>Suffolk</td>\n",
       "      <td>NY</td>\n",
       "      <td>11953</td>\n",
       "      <td>631-335-3414</td>\n",
       "      <td>631-677-3675</td>\n",
       "      <td>amaclead@gmail.com</td>\n",
       "      <td>http://www.rangoniofflorence.com</td>\n",
       "    </tr>\n",
       "    <tr>\n",
       "      <th>23</th>\n",
       "      <td>Maryann</td>\n",
       "      <td>Royster</td>\n",
       "      <td>Franklin, Peter L Esq</td>\n",
       "      <td>74 S Westgate St</td>\n",
       "      <td>Albany</td>\n",
       "      <td>Albany</td>\n",
       "      <td>NY</td>\n",
       "      <td>12204</td>\n",
       "      <td>518-966-7987</td>\n",
       "      <td>518-448-8982</td>\n",
       "      <td>mroyster@royster.com</td>\n",
       "      <td>http://www.franklinpeterlesq.com</td>\n",
       "    </tr>\n",
       "    <tr>\n",
       "      <th>28</th>\n",
       "      <td>Willow</td>\n",
       "      <td>Kusko</td>\n",
       "      <td>U Pull It</td>\n",
       "      <td>90991 Thorburn Ave</td>\n",
       "      <td>New York</td>\n",
       "      <td>New York</td>\n",
       "      <td>NY</td>\n",
       "      <td>10011</td>\n",
       "      <td>212-582-4976</td>\n",
       "      <td>212-934-5167</td>\n",
       "      <td>wkusko@yahoo.com</td>\n",
       "      <td>http://www.upullit.com</td>\n",
       "    </tr>\n",
       "    <tr>\n",
       "      <th>34</th>\n",
       "      <td>Alishia</td>\n",
       "      <td>Sergi</td>\n",
       "      <td>Milford Enterprises Inc</td>\n",
       "      <td>2742 Distribution Way</td>\n",
       "      <td>New York</td>\n",
       "      <td>New York</td>\n",
       "      <td>NY</td>\n",
       "      <td>10025</td>\n",
       "      <td>212-860-1579</td>\n",
       "      <td>212-753-2740</td>\n",
       "      <td>asergi@gmail.com</td>\n",
       "      <td>http://www.milfordenterprisesinc.com</td>\n",
       "    </tr>\n",
       "    <tr>\n",
       "      <th>36</th>\n",
       "      <td>Jose</td>\n",
       "      <td>Stockham</td>\n",
       "      <td>Tri State Refueler Co</td>\n",
       "      <td>128 Bransten Rd</td>\n",
       "      <td>New York</td>\n",
       "      <td>New York</td>\n",
       "      <td>NY</td>\n",
       "      <td>10011</td>\n",
       "      <td>212-675-8570</td>\n",
       "      <td>212-569-4233</td>\n",
       "      <td>jose@yahoo.com</td>\n",
       "      <td>http://www.tristaterefuelerco.com</td>\n",
       "    </tr>\n",
       "  </tbody>\n",
       "</table>\n",
       "</div>"
      ],
      "text/plain": [
       "   first_name last_name             company_name                address  \\\n",
       "11       Abel   Maclead      Rangoni Of Florence     37275 St  Rt 17m M   \n",
       "23    Maryann   Royster    Franklin, Peter L Esq       74 S Westgate St   \n",
       "28     Willow     Kusko                U Pull It     90991 Thorburn Ave   \n",
       "34    Alishia     Sergi  Milford Enterprises Inc  2742 Distribution Way   \n",
       "36       Jose  Stockham    Tri State Refueler Co        128 Bransten Rd   \n",
       "\n",
       "             city    county state    zip        phone1        phone2  \\\n",
       "11  Middle Island   Suffolk    NY  11953  631-335-3414  631-677-3675   \n",
       "23         Albany    Albany    NY  12204  518-966-7987  518-448-8982   \n",
       "28       New York  New York    NY  10011  212-582-4976  212-934-5167   \n",
       "34       New York  New York    NY  10025  212-860-1579  212-753-2740   \n",
       "36       New York  New York    NY  10011  212-675-8570  212-569-4233   \n",
       "\n",
       "                   email                                   web  \n",
       "11    amaclead@gmail.com      http://www.rangoniofflorence.com  \n",
       "23  mroyster@royster.com      http://www.franklinpeterlesq.com  \n",
       "28      wkusko@yahoo.com                http://www.upullit.com  \n",
       "34      asergi@gmail.com  http://www.milfordenterprisesinc.com  \n",
       "36        jose@yahoo.com     http://www.tristaterefuelerco.com  "
      ]
     },
     "execution_count": 28,
     "metadata": {},
     "output_type": "execute_result"
    }
   ],
   "source": [
    "df[df['state'] == 'NY'].head(5)"
   ]
  },
  {
   "cell_type": "code",
   "execution_count": 36,
   "metadata": {},
   "outputs": [],
   "source": [
    "test = pd.DataFrame({'a': [1, 2, 5, 10],'b': ['Jose','Justin','James','Akanksa']})\n",
    "#Creating a dataframe"
   ]
  },
  {
   "cell_type": "code",
   "execution_count": 37,
   "metadata": {},
   "outputs": [
    {
     "data": {
      "text/html": [
       "<div>\n",
       "<style scoped>\n",
       "    .dataframe tbody tr th:only-of-type {\n",
       "        vertical-align: middle;\n",
       "    }\n",
       "\n",
       "    .dataframe tbody tr th {\n",
       "        vertical-align: top;\n",
       "    }\n",
       "\n",
       "    .dataframe thead th {\n",
       "        text-align: right;\n",
       "    }\n",
       "</style>\n",
       "<table border=\"1\" class=\"dataframe\">\n",
       "  <thead>\n",
       "    <tr style=\"text-align: right;\">\n",
       "      <th></th>\n",
       "      <th>a</th>\n",
       "      <th>b</th>\n",
       "    </tr>\n",
       "  </thead>\n",
       "  <tbody>\n",
       "    <tr>\n",
       "      <th>0</th>\n",
       "      <td>1</td>\n",
       "      <td>Jose</td>\n",
       "    </tr>\n",
       "    <tr>\n",
       "      <th>1</th>\n",
       "      <td>2</td>\n",
       "      <td>Justin</td>\n",
       "    </tr>\n",
       "    <tr>\n",
       "      <th>2</th>\n",
       "      <td>5</td>\n",
       "      <td>James</td>\n",
       "    </tr>\n",
       "    <tr>\n",
       "      <th>3</th>\n",
       "      <td>10</td>\n",
       "      <td>Akanksa</td>\n",
       "    </tr>\n",
       "  </tbody>\n",
       "</table>\n",
       "</div>"
      ],
      "text/plain": [
       "    a        b\n",
       "0   1     Jose\n",
       "1   2   Justin\n",
       "2   5    James\n",
       "3  10  Akanksa"
      ]
     },
     "execution_count": 37,
     "metadata": {},
     "output_type": "execute_result"
    }
   ],
   "source": [
    "test"
   ]
  },
  {
   "cell_type": "code",
   "execution_count": 42,
   "metadata": {},
   "outputs": [
    {
     "data": {
      "text/html": [
       "<div>\n",
       "<style scoped>\n",
       "    .dataframe tbody tr th:only-of-type {\n",
       "        vertical-align: middle;\n",
       "    }\n",
       "\n",
       "    .dataframe tbody tr th {\n",
       "        vertical-align: top;\n",
       "    }\n",
       "\n",
       "    .dataframe thead th {\n",
       "        text-align: right;\n",
       "    }\n",
       "</style>\n",
       "<table border=\"1\" class=\"dataframe\">\n",
       "  <thead>\n",
       "    <tr style=\"text-align: right;\">\n",
       "      <th></th>\n",
       "      <th>a</th>\n",
       "      <th>b</th>\n",
       "    </tr>\n",
       "  </thead>\n",
       "  <tbody>\n",
       "    <tr>\n",
       "      <th>2</th>\n",
       "      <td>5</td>\n",
       "      <td>James</td>\n",
       "    </tr>\n",
       "  </tbody>\n",
       "</table>\n",
       "</div>"
      ],
      "text/plain": [
       "   a      b\n",
       "2  5  James"
      ]
     },
     "execution_count": 42,
     "metadata": {},
     "output_type": "execute_result"
    }
   ],
   "source": [
    "test[test['a']==5]\n",
    "#Getting a single col"
   ]
  },
  {
   "cell_type": "code",
   "execution_count": 41,
   "metadata": {},
   "outputs": [
    {
     "data": {
      "text/plain": [
       "3    10\n",
       "Name: a, dtype: int64"
      ]
     },
     "execution_count": 41,
     "metadata": {},
     "output_type": "execute_result"
    }
   ],
   "source": [
    "test[test['a']>5]['a']\n",
    "#getting the col and displaying it!"
   ]
  },
  {
   "cell_type": "code",
   "execution_count": 43,
   "metadata": {},
   "outputs": [],
   "source": [
    "import seaborn as sns"
   ]
  },
  {
   "cell_type": "code",
   "execution_count": 44,
   "metadata": {},
   "outputs": [],
   "source": [
    "titanic = sns.load_dataset('titanic')"
   ]
  },
  {
   "cell_type": "code",
   "execution_count": 45,
   "metadata": {},
   "outputs": [
    {
     "name": "stdout",
     "output_type": "stream",
     "text": [
      "<class 'pandas.core.frame.DataFrame'>\n",
      "RangeIndex: 891 entries, 0 to 890\n",
      "Data columns (total 15 columns):\n",
      "survived       891 non-null int64\n",
      "pclass         891 non-null int64\n",
      "sex            891 non-null object\n",
      "age            714 non-null float64\n",
      "sibsp          891 non-null int64\n",
      "parch          891 non-null int64\n",
      "fare           891 non-null float64\n",
      "embarked       889 non-null object\n",
      "class          891 non-null category\n",
      "who            891 non-null object\n",
      "adult_male     891 non-null bool\n",
      "deck           203 non-null category\n",
      "embark_town    889 non-null object\n",
      "alive          891 non-null object\n",
      "alone          891 non-null bool\n",
      "dtypes: bool(2), category(2), float64(2), int64(4), object(5)\n",
      "memory usage: 80.6+ KB\n"
     ]
    }
   ],
   "source": [
    "titanic.info()"
   ]
  },
  {
   "cell_type": "code",
   "execution_count": 46,
   "metadata": {},
   "outputs": [
    {
     "data": {
      "text/plain": [
       "0    549\n",
       "1    342\n",
       "Name: survived, dtype: int64"
      ]
     },
     "execution_count": 46,
     "metadata": {},
     "output_type": "execute_result"
    }
   ],
   "source": [
    "titanic['survived'].value_counts()"
   ]
  },
  {
   "cell_type": "code",
   "execution_count": 47,
   "metadata": {},
   "outputs": [
    {
     "data": {
      "text/plain": [
       "<matplotlib.axes._subplots.AxesSubplot at 0x1a0c3be358>"
      ]
     },
     "execution_count": 47,
     "metadata": {},
     "output_type": "execute_result"
    },
    {
     "data": {
      "image/png": "[encoded data removed]",
      "text/plain": [
       "<Figure size 432x288 with 1 Axes>"
      ]
     },
     "metadata": {},
     "output_type": "display_data"
    }
   ],
   "source": [
    "sns.countplot(titanic['survived'])"
   ]
  },
  {
   "cell_type": "code",
   "execution_count": 48,
   "metadata": {},
   "outputs": [
    {
     "data": {
      "text/plain": [
       "<matplotlib.axes._subplots.AxesSubplot at 0x1a18182dd8>"
      ]
     },
     "execution_count": 48,
     "metadata": {},
     "output_type": "execute_result"
    },
    {
     "data": {
      "image/png": "[encoded data removed]",
      "text/plain": [
       "<Figure size 432x288 with 1 Axes>"
      ]
     },
     "metadata": {},
     "output_type": "display_data"
    }
   ],
   "source": [
    "sns.countplot(titanic['sex'])"
   ]
  },
  {
   "cell_type": "code",
   "execution_count": 49,
   "metadata": {},
   "outputs": [
    {
     "data": {
      "text/plain": [
       "<matplotlib.axes._subplots.AxesSubplot at 0x1a181d85c0>"
      ]
     },
     "execution_count": 49,
     "metadata": {},
     "output_type": "execute_result"
    },
    {
     "data": {
      "image/png": "[encoded data removed]",
      "text/plain": [
       "<Figure size 432x288 with 1 Axes>"
      ]
     },
     "metadata": {},
     "output_type": "display_data"
    }
   ],
   "source": [
    "sns.boxplot(titanic['fare'])"
   ]
  },
  {
   "cell_type": "code",
   "execution_count": 52,
   "metadata": {},
   "outputs": [
    {
     "data": {
      "text/plain": [
       "<matplotlib.axes._subplots.AxesSubplot at 0x1a1847f518>"
      ]
     },
     "execution_count": 52,
     "metadata": {},
     "output_type": "execute_result"
    },
    {
     "data": {
      "image/png": "[encoded data removed]",
      "text/plain": [
       "<Figure size 432x288 with 1 Axes>"
      ]
     },
     "metadata": {},
     "output_type": "display_data"
    }
   ],
   "source": [
    "sns.boxplot(titanic['fare'], titanic['sex'], hue = titanic['survived'])\n",
    "#Comparing sex & survive plus with fare"
   ]
  },
  {
   "cell_type": "code",
   "execution_count": null,
   "metadata": {},
   "outputs": [],
   "source": []
  }
 ],
 "metadata": {
  "kernelspec": {
   "display_name": "Python 3",
   "language": "python",
   "name": "python3"
  },
  "language_info": {
   "codemirror_mode": {
    "name": "ipython",
    "version": 3
   },
   "file_extension": ".py",
   "mimetype": "text/x-python",
   "name": "python",
   "nbconvert_exporter": "python",
   "pygments_lexer": "ipython3",
   "version": "3.6.5"
  }
 },
 "nbformat": 4,
 "nbformat_minor": 2
}
