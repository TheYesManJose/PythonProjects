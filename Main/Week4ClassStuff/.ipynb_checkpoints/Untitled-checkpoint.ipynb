{
 "cells": [
  {
   "cell_type": "code",
   "execution_count": 1,
   "metadata": {},
   "outputs": [],
   "source": [
    "import requests\n",
    "from bs4 import BeautifulSoup"
   ]
  },
  {
   "cell_type": "code",
   "execution_count": 2,
   "metadata": {},
   "outputs": [],
   "source": [
    "url = 'https://www.gq.com/story/all-of-brett-kavanaughs-lies'"
   ]
  },
  {
   "cell_type": "code",
   "execution_count": 3,
   "metadata": {},
   "outputs": [],
   "source": [
    "response = requests.get(url)"
   ]
  },
  {
   "cell_type": "code",
   "execution_count": 4,
   "metadata": {},
   "outputs": [
    {
     "data": {
      "text/plain": [
       "<Response [200]>"
      ]
     },
     "execution_count": 4,
     "metadata": {},
     "output_type": "execute_result"
    }
   ],
   "source": [
    "requests.get(url)"
   ]
  },
  {
   "cell_type": "code",
   "execution_count": 5,
   "metadata": {},
   "outputs": [],
   "source": [
    "soup = BeautifulSoup(response.text, 'html.parser')"
   ]
  },
  {
   "cell_type": "code",
   "execution_count": null,
   "metadata": {},
   "outputs": [],
   "source": []
  },
  {
   "cell_type": "code",
   "execution_count": 7,
   "metadata": {},
   "outputs": [
    {
     "data": {
      "text/plain": [
       "<div class=\"embed p\" data-reactid=\"149\"><p>It is not that often that four of a judicial nominee&amp;apos;s high school and college classmates go on the record to question his honesty. But so it goes with Brett Kavanaugh, Donald Trump&amp;apos;s post-truth Supreme Court nominee.</p></div>"
      ]
     },
     "execution_count": 7,
     "metadata": {},
     "output_type": "execute_result"
    }
   ],
   "source": [
    "soup.find('div', {'class': 'p'})"
   ]
  },
  {
   "cell_type": "code",
   "execution_count": 8,
   "metadata": {},
   "outputs": [
    {
     "data": {
      "text/plain": [
       "[<div class=\"embed p\" data-reactid=\"149\"><p>It is not that often that four of a judicial nominee&amp;apos;s high school and college classmates go on the record to question his honesty. But so it goes with Brett Kavanaugh, Donald Trump&amp;apos;s post-truth Supreme Court nominee.</p></div>,\n",
       " <div class=\"embed p\" data-reactid=\"150\"><p>Last Thursday, Kavanaugh testified to the Senate Judiciary Committee in a hearing, which was heavily rigged in his favor because Republicans limited senators to five minutes of questioning and disallowed any other witnesses, on Christine Blasey Ford&amp;apos;s allegations of sexual assault against him. As in previous interviews and testimony, his statements were riddled with misrepresentations, diversions, and outright lies, so much so that <em>The New York Times</em> posted a <a href=\"https://www.nytimes.com/2018/09/28/us/politics/brett-kavanaugh-fact-check.html\">fact-check</a>, Vox made a chart of every time Kavanaugh <a href=\"https://www.vox.com/policy-and-politics/2018/9/28/17914308/kavanaugh-ford-question-dodge-hearing-chart\">dodged a question</a>, and <em>Current Affairs</em>&amp;apos; Nathan Robinson dissected the testimony in an exhaustive 10,000-word refutation, \"<a href=\"https://www.currentaffairs.org/2018/09/how-we-know-kavanaugh-is-lying\">How We Know Kavanaugh Is Lying</a>.\"</p></div>,\n",
       " <div class=\"embed p\" data-reactid=\"151\"><p>After the hearing, Kavanaugh&amp;apos;s Georgetown Prep classmate Sean Hagan <a href=\"https://www.nytimes.com/2018/09/28/us/politics/brett-kavanaugh-fact-check.html\">posted</a> on Facebook: \"So angry. So disgusted. So sad. Integrity? Character? Honesty?\" Yale classmate Chad Ludington, a professor at North Carolina State University, issued a <a href=\"https://www.nytimes.com/2018/09/30/us/politics/chad-ludington-statement-brett-kavanaugh.html?smid=tw-nytimes&amp;smtyp=cur\">statement</a> saying that he was \"deeply troubled\" by Kavanaugh&amp;apos;s \"blatant mischaracterization\" and \"cringed\" while watching his testimony under oath. \"I can unequivocally say that in denying the possibility that he ever blacked out from drinking, and in downplaying the degree and frequency of his drinking, Brett has not told the truth,\" wrote Ludington.</p></div>,\n",
       " <div class=\"embed p\" data-reactid=\"152\"><p>Two more Yale classmates granted interviews to CNN. \"There were a lot of texts flying around that night about how he was lying to the Senate Judiciary Committee,\" Lynne Brookes, a college friend and registered Republican, told Chris Cuomo. Another college friend, Liz Swisher, a Democrat and professor of gynecologic oncology, was equally outraged by Kavanaugh&amp;apos;s dissembling performance. \"To lie under oath. To blur…the difference between truth and lies, that&amp;apos;s just terrible,\" said Swisher in a different interview with Cuomo. \"It&amp;apos;s not about women versus men. It&amp;apos;s not about Democrats versus Republicans. It&amp;apos;s about the integrity of the Supreme Court.\"</p></div>,\n",
       " <div class=\"embed p\" data-reactid=\"153\"><p>Not all Republicans were to be troubled by Kavanaugh&amp;apos;s disregard for the whole truth and nothing but the truth, with <em>National Review</em> editor Rich Lowry making the case to NPR that his lack of frankness was justified. Those who thought that the FBI investigation initiated by Senator Jeff Flake (R-Ariz.)—who appeared on <a href=\"http://theweek.com/speedreads/799130/gop-sen-jeff-flake-says-kavanaugh-struck-raw-but-right-hes-unjustly-accused\"><em>60 Minutes</em></a> with Senator Chris Coons (D-Del.), saying that Kavanaugh&amp;apos;s nomination should be over if he lied to the committee—would lead to a more honest interrogation of the facts were met with the same kind of partisan stonewalling. \"I thought it was going to be an investigation,\" a Yale classmate attempting to corroborate Debbie Ramirez&amp;apos;s allegation of sexual misconduct told <a href=\"https://www.newyorker.com/news/news-desk/the-confusion-surrounding-the-fbis-renewed-investigation-of-brett-kavanaugh?mbid=social_twitter\"><em>The New Yorker</em></a>. \"But instead it seems it&amp;apos;s just an alibi for Republicans to vote for Kavanaugh.\"</p></div>,\n",
       " <div class=\"embed p\" data-reactid=\"154\"><p>The thing is that Kavanaugh doesn&amp;apos;t just lie about his drinking or circumstances that may implicate him in a crime, which, while perhaps an understandable human reaction, is baseline disqualifying for serving on the highest court in the land. He lies about big things. He lies about small things. If you&amp;apos;ve been trying to keep up, here&amp;apos;s a running list of all of Kavanaugh&amp;apos;s lies thus far.</p></div>,\n",
       " <div class=\"embed p\" data-reactid=\"156\"><p><strong>Date:</strong> <a href=\"https://twitter.com/axios/status/1016490932324175874?lang=en\">July 9, 2018</a><br/>\n",
       " <strong>Under Oath:</strong> Nope, just in front of his wife, two daughters, and the American people!</p></div>,\n",
       " <div class=\"embed p\" data-reactid=\"157\"><p>To kick off his nomination to the highest court in the land, Kavanaugh introduced himself to the American public with this preposterously fantastical and unknowable pronouncement as an obsequious gesture to Trump. There may seem to be pressure to genuflect to a wannabe authoritarian who exchanges <a href=\"https://www.reuters.com/article/us-northkorea-usa-trump/we-fell-in-love-trump-swoons-over-letters-from-north-koreas-kim-idUSKCN1MA03Q\">love letters</a> with North Korean dictator Kim Jong-un and whose sycophantic cabinet members <a href=\"https://www.vanityfair.com/news/2017/06/donald-trump-cabinet-meeting\">shower him with effusive praise</a> in meetings. But Gorsuch did no such thing in his nomination <a href=\"https://www.washingtonpost.com/videopolitics/trump-announces-neil-gorsuch-as-supreme-court-pick/2017/01/31/acce4b88-e803-11e6-903d-9b11ed7d8d2a_video.html?utm_term=.4a680fe1be5b\">speech</a>, instead maintaining an appropriately respectful manner. File this one under: Come the fuck on.</p></div>,\n",
       " <div class=\"embed p\" data-reactid=\"159\"><p><strong>Date:</strong> <a href=\"https://www.newsweek.com/brett-kavanaugh-trolled-after-claiming-he-grew-city-plagued-gun-violence-1111776\">September 5, 2018</a><br/>\n",
       " <strong>Under Oath:</strong> Uh, yeah</p></div>,\n",
       " <div class=\"embed p\" data-reactid=\"160\"><p>Here&amp;apos;s another needless whopper. On the second day of Brett Kavanaugh&amp;apos;s Supreme Court confirmation hearing, Senator Dianne Feinstein (D-Calif.) asked him about his dissenting opinion on the court&amp;apos;s 2011 ruling upholding D.C.&amp;apos;s ban on assault weapons, for which he made the novel assertion that banning a class of arms is \"equivalent to a ban on a category of speech.\" Kavanaugh intimated that he had personal familiarity with the gun-violence issue. This was pure bullshit. The only child of a judge and a lawyer, he grew up in one of the country&amp;apos;s most elite communities: Bethesda, Maryland, where the average annual income is now $146,664 (the national average income is $51,939) and the homicide rate was 2.1 deaths per 100,000 from 2009-2015. The local media had some fun with <a href=\"http://dcist.com/2018/09/brett_kavanaugh_bethesda_gun_violence.php\">that</a> <a href=\"https://bethesdamagazine.com/bethesda-beat/news/locals-react-to-kavanaughs-description-of-bethesda-as-city-plagued-by-gun-violence/\">one</a>.</p></div>,\n",
       " <div class=\"embed p\" data-reactid=\"162\"><p><strong>Date:</strong> <a href=\"https://www.washingtonpost.com/politics/2018/09/24/brett-kavanaughs-fox-news-interview-transcript-annotated/?utm_term=.f644590ee7cf\">September 23, 2018</a><br/>\n",
       " <strong>Under Oath:</strong> Not this time</p></div>,\n",
       " <div class=\"embed p\" data-reactid=\"163\"><p>In a Fox News interview with Martha MacCallum, Kavanaugh portrayed himself as an altar boy. This was a departure from his high school yearbook page, which boasted of \"Keg City Club (Treasurer)—100 Kegs or Bust,\" and his high school friend Mark Judge painted an entirely different picture of those days in his memoir, <em>Wasted: Tales of a Gen X Drunk</em>.</p></div>,\n",
       " <div class=\"embed p\" data-reactid=\"165\"><p><strong>Date:</strong> <a href=\"https://www.washingtonpost.com/politics/2018/09/24/brett-kavanaughs-fox-news-interview-transcript-annotated/?utm_term=.f644590ee7cf\">September 23, 2018</a><br/>\n",
       " <strong>Under Oath:</strong> Nope</p></div>,\n",
       " <div class=\"embed p\" data-reactid=\"166\"><p>In the same Fox News interview, MacCallum asked Kavanaugh about a <em>New Yorker</em> article on Debbie Ramirez, who claimed a drunk Kavanaugh <a href=\"https://www.newyorker.com/news/news-desk/senate-democrats-investigate-a-new-allegation-of-sexual-misconduct-from-the-supreme-court-nominee-brett-kavanaughs-college-years-deborah-ramirez\">exposed himself</a> to her in a room of people at Yale. Indeed, it was the talk of the time. A few students, including Richard Oh and another anonymous student, remember hearing about the incident at the time. Kavanaugh&amp;apos;s Yale roommate, James Roche, didn&amp;apos;t seem to think it would be implausible for Kavanaugh to expose himself to Ramirez. \"Based on my time with Debbie, I believe her to be unusually honest and straightforward and I cannot imagine her making this up,\" Roche said in a statement. \"Based on my time with Brett, I believe that he and his social circle were capable of the actions that Debbie described.\"</p></div>,\n",
       " <div class=\"embed p\" data-reactid=\"168\"><p><strong>Date:</strong> <a href=\"https://www.washingtonpost.com/politics/2018/09/24/brett-kavanaughs-fox-news-interview-transcript-annotated/?utm_term=.f644590ee7cf\">September 23, 2018</a><br/>\n",
       " <strong>Under Oath:</strong> No</p></div>,\n",
       " <div class=\"embed p\" data-reactid=\"169\"><p>Kavanaugh&amp;apos;s Georgetown Prep classmate Sean Hagan also countered his claim of treating women in a respectful manner. \"They were very disrespectful, at least verbally, with Renate,\" Hagan told <em>The New York Times</em> for an article titled \"<a href=\"https://www.nytimes.com/2018/09/24/business/brett-kavanaugh-yearbook-renate.html\">Kavanaugh&amp;apos;s Yearbook Page Is Horrible, Hurtful to the Woman It Named</a>.\" \"I can&amp;apos;t express how disgusted I am with them, then and now.\" One of the women who had signed that letter Kavanaugh cited was Renate Schroeder Dolphin.</p></div>,\n",
       " <div class=\"embed p\" data-reactid=\"171\"><p><strong>Date:</strong> <a href=\"https://www.washingtonpost.com/news/national/wp/2018/09/27/kavanaugh-hearing-transcript/?utm_term=.cf16d33210a4\">September 27, 2018</a><br/>\n",
       " <strong>Under Oath:</strong> Yup</p></div>,\n",
       " <div class=\"embed p\" data-reactid=\"172\"><p>About that <a href=\"https://www.nytimes.com/2018/09/24/business/brett-kavanaugh-yearbook-renate.html\"><em>New York Times</em></a> article, in Kavanaugh&amp;apos;s opening statement for the last Senate Judiciary Committee hearing, he denied its reporting. The article identified Dolphin as the \"Renate\" listed at least 14 times by football players in that yearbook, including a mention of \"Renate Alumnius\" on Kavanaugh&amp;apos;s own page. A \"tribute\" by another student was this poem: \"You need a date / and it&amp;apos;s getting late / so don&amp;apos;t hesitate / to call Renate.\"</p></div>,\n",
       " <div class=\"embed p\" data-reactid=\"173\"><p>Peculiarly enough, despite Kavanaugh&amp;apos;s claim that this was an affectionate in-group phrasing, Dolphin hadn&amp;apos;t heard it until this past month when <em>The New York Times</em> reached out to her. \"I can&amp;apos;t begin to comprehend what goes through the minds of 17-year-old boys who write such things,\" she said, \"but the insinuation is horrible, hurtful and simply untrue. I pray their daughters are never treated this way.\" In a follow-up in <em>The New York Times</em> after the hearing, four former Georgetown Prep students dispute the honesty of Kavanaugh&amp;apos;s opening statement and assert that the reference was, indeed, a degrading, unsubstantiated sexual boast.</p></div>,\n",
       " <div class=\"embed p\" data-reactid=\"175\"><p><strong>Date:</strong> <a href=\"https://www.washingtonpost.com/news/national/wp/2018/09/27/kavanaugh-hearing-transcript/?utm_term=.cf16d33210a4\">September 27, 2018</a><br/>\n",
       " <strong>Under Oath:</strong> You better believe it</p></div>,\n",
       " <div class=\"embed p\" data-reactid=\"176\"><p>In reviewing more of Kavanaugh&amp;apos;s 1983 high school yearbook page, Senator Sheldon Whitehouse (D-RI) asked him what \"boofed\" meant in his entry \"Judge, have you boofed yet?\" and, well, Kavanaugh proffered a completely new definition for the slang. <em>The New York Times</em> <a href=\"https://www.nytimes.com/2018/09/28/us/politics/brett-kavanaugh-fact-check.html\">interviewed</a> multiple Georgetown Prep classmates prior to his testimony, and none had heard of his definition but identified it by the more commonly known meaning of anal sex in the 1980s.</p></div>,\n",
       " <div class=\"embed p\" data-reactid=\"178\"><p><strong>Date:</strong> <a href=\"https://www.washingtonpost.com/news/national/wp/2018/09/27/kavanaugh-hearing-transcript/?utm_term=.cf16d33210a4\">September 27, 2018</a><br/>\n",
       " <strong>Under Oath:</strong> Uh-huh</p></div>,\n",
       " <div class=\"embed p\" data-reactid=\"179\"><p>Continuing on with Rosetta Stoning Kavanaugh&amp;apos;s yearbook page, Whitehouse asked what \"Devil&amp;apos;s triangle\" referred to, and Kavanaugh replied that it was a drinking game with three glasses in a triangle played in a similar fashion to quarters. Again, Georgetown Prep contemporaries had never heard of that definition either, but identified the more commonly known meaning of group sex between two men and one woman. (Curiously, no such definition seemed to exist anywhere online—until <a href=\"https://slate.com/technology/2018/09/kavanaugh-wikipedia-devils-triangle.html\">a Wikipedia edit</a> was submitted from the U.S. House of Representatives shortly after Kavanaugh&amp;apos;s testimony.) \"The explanation of Devil&amp;apos;s triangle does not hold water for me,\" said William Fishburne, who managed the Georgetown Prep football team while Kavanaugh was a senior, told <em>The New York Times.</em></p></div>,\n",
       " <div class=\"embed p\" data-reactid=\"181\"><p><strong>Date:</strong> <a href=\"https://www.washingtonpost.com/news/national/wp/2018/09/27/kavanaugh-hearing-transcript/?utm_term=.cf16d33210a4\">September 27, 2018</a><br/>\n",
       " <strong>Under Oath:</strong> Yes indeed</p></div>,\n",
       " <div class=\"embed p\" data-reactid=\"182\"><p>Whitehouse also asked Kavanaugh about another of Kavanaugh&amp;apos;s yearbook entries: \"Beach Week Ralph Club — Biggest Contributor.\" Beach Week was a party week for Georgetown Prep kids and ralphing, as most sentient humans know, refers to throwing up. Here Kavanaugh preposterously claims that he had a reputation for tummy troubles and that there was an entire club dedicated to it during his high school&amp;apos;s party week. Yale classmate Swisher also disputes that Kavanaugh was ever known for his weak stomach; he was, however, known for being a \"sloppy drunk.\"</p></div>,\n",
       " <div class=\"embed p\" data-reactid=\"184\"><p><strong>Date:</strong> <a href=\"https://www.washingtonpost.com/news/national/wp/2018/09/27/kavanaugh-hearing-transcript/?utm_term=.cf16d33210a4\">September 27, 2018</a><br/>\n",
       " <strong>Under Oath:</strong> [<em>sigh</em>] Yes</p></div>,\n",
       " <div class=\"embed p\" data-reactid=\"185\"><p>Kavanaugh made his liking for beer a central part of his testimony, mentioning it no less than 28 times and claiming, ridiculously: \"If every American who drinks beer or every American who drank beer in high school is suddenly presumed guilty of sexual assault, will be an ugly, new place in this country.\" Over and over, he disputed, as Klobuchar put it, that he \"drank so much that you didn&amp;apos;t remember what happened.\" And he had already previously denied to Martha MacCallum in a Fox News interview that there was \"ever a time that you drank so much that you couldn&amp;apos;t remember what happened the night before.\"</p></div>,\n",
       " <div class=\"embed p\" data-reactid=\"186\"><p>The \"blatant lying\" and \"lying under oath\" inspired two of his Yale classmates to dispute his account in separate CNN interviews. Brookes described him as \"<a href=\"https://www.cnn.com/videos/politics/2018/09/28/lynne-brookes-kavanaugh-classmate-cuomo-cpt-intv-vpx-bts.cnn\">stumbling drunk</a>\" and said, \"I can almost guarantee that he doesn&amp;apos;t remember that night.\" Swisher countered that \"there&amp;apos;s no problem with drinking beer in college; the problem is <a href=\"https://www.cnn.com/videos/politics/2018/09/29/liz-swisher-yale-classmate-sloppy-drunk-bts-cuomo-vpx.cnn/video/playlists/reaction-to-brett-kavanaugh-allegation/\">lying about it</a>,\" and that \"I don&amp;apos;t think many of his answers were credible.\"</p></div>,\n",
       " <div class=\"embed p\" data-reactid=\"188\"><p><strong>Date:</strong> <a href=\"https://www.washingtonpost.com/news/national/wp/2018/09/27/kavanaugh-hearing-transcript/?utm_term=.cf16d33210a4\">September 27, 2018</a><br/>\n",
       " <strong>Under Oath:</strong> …yes</p></div>,\n",
       " <div class=\"embed p\" data-reactid=\"189\"><p>This is outright false. Two of the witnesses—Leland Ingham Keyser and Patrick J. Smyth—whom Blasey Ford named, couldn&amp;apos;t remember the night in question, which would make sense given that it was an uneventful gathering for them dating back several decades. Mark Judge, the only witness in the room, refused to testify to the Senate Judiciary Committee. Keyser, the longtime friend, previously told <em>The Washington Post</em> she <a href=\"https://www.washingtonpost.com/politics/lawyers-for-christine-blasey-ford-say-she-has-accepted-senate-judiciary-committees-request-to-testify-against-kavanaugh/2018/09/22/e8199c6a-be8f-11e8-8792-78719177250f_story.html?utm_term=.cf2d33eb1861\">believes</a> Ford&amp;apos;s allegation. After the hearing, Keyser released another <a href=\"https://www.cbsnews.com/news/christine-blasey-ford-friend-leland-keyser-clarifies-statement-about-alleged-assault-by-brett-kavanaugh/\">statement</a> through her lawyer reiterating that she \"does not refute Dr. Ford&amp;apos;s account, and she has already told the press that she believes Dr. Ford&amp;apos;s account.\"</p></div>,\n",
       " <div class=\"embed p\" data-reactid=\"191\"><p><strong>Date:</strong> <a href=\"https://www.congress.gov/108/chrg/shrg24853/CHRG-108shrg24853.pdf\">April 27, 2004</a><br/>\n",
       " <strong>Under Oath:</strong> Yup!</p></div>,\n",
       " <div class=\"embed p\" data-reactid=\"192\"><p>During Kavanaugh&amp;apos;s nomination hearing to be a Court of Appeals judge on the D.C. Circuit, he was asked about the 2003 scandal known as \"Memogate,\" dubbed as \"digital Watergate\" by Senator Patrick Leahy (D-VT). Republican aide Manny Miranda used a computer glitch on a shared server to gain access to 4,670 confidential memos on judicial strategy from Democrats on the Judiciary Committee. Information from them was shared with staffers at President George W. Bush&amp;apos;s White House, including Kavanaugh, then in the White House counsel&amp;apos;s office. The Senate sergeant-at-arms investigated it, and Miranda resigned without being charged of a crime. Senators Hatch, Schumer, and Durbin all asked Kavanaugh whether he had knowledge of the information. Kavanaugh denied knowledge of the stolen memos multiple  times. But in a <a href=\"https://twitter.com/SenatorLeahy/status/1037753403856887808\">newly released e-mail</a> from March 28, 2003, with the subject \"For use and not distribution,\" Kavanaugh received eight pages including the phrase: \"as I mentioned on Friday, Senator Leahy?s staff as distributed a ?confidential? letter to Dem Counsel.\"</p></div>,\n",
       " <div class=\"embed p\" data-reactid=\"194\"><p><strong>Date:</strong> <a href=\"https://www.congress.gov/109/chrg/shrg27916/CHRG-109shrg27916.pdf\">May 9, 2006</a><br/>\n",
       " <strong>Under Oath:</strong> You better believe it!</p></div>,\n",
       " <div class=\"embed p\" data-reactid=\"195\"><p>Two years later, Memogate resurfaced again in Kavanaugh&amp;apos;s nomination for judge for the District of Columbia Circuit. Senator Durbin questioned him again, as did the late senator Ted Kennedy. And again, Kavanaugh unequivocally denied knowledge of them. That same year, the nonpartisan American Bar Association <a href=\"https://www.washingtonpost.com/politics/2018/09/28/american-bar-association-had-kavanaugh-concerns-years-ago-republicans-dismissed-those-too/?utm_term=.67df00b48a39\">downgraded</a> its endorsement of him from \"well qualified\" to \"qualified\" after its judicial investigator conducted dozens of interviews with lawyers, judges, and former colleagues, some of whom raised questions about \"his professional experience and the question of his freedom from bias and open-mindedness\" and his ability \"to be balanced and fair.\"</p></div>,\n",
       " <div class=\"embed p\" data-reactid=\"197\"><p><strong>Date:</strong> <a href=\"https://www.congress.gov/109/chrg/shrg27916/CHRG-109shrg27916.pdf\">May 9, 2006</a><br/>\n",
       " <strong>Under Oath:</strong> Yeah…</p></div>,\n",
       " <div class=\"embed p\" data-reactid=\"198\"><p>As White House staff secretary, Kavanaugh worked in the Bush administration during the good ol’ days of torture, warrantless wiretapping, and Abu Ghraib. Senator Richard Durbin (D-Ill.) asked Kavanaugh about the nomination of William Haynes, former general counsel to the Defense Department, to be a judge on the Fourth Circuit and his knowledge of Haynes&amp;apos;s role in crafting the administration&amp;apos;s detention and interrogation policies. In 2007, <a href=\"https://www.npr.org/about/press/2007/062607.kavanaugh.html\">NPR</a> reported that, in fact, Kavanaugh had weighed in on the question of detention, advising White House lawyers that Justice Anthony Kennedy \"would probably reject the President&amp;apos;s claim that American combatants could be denied access to a lawyer.\" While previous Supreme Court nominees made the bulk of their documents available, only <a href=\"https://www.vox.com/2018/9/4/17818210/supreme-court-nominee-kavanaugh-hearing\">4 percent</a> of Kavanaugh&amp;apos;s paper trail was made available to the public, and it begs the question of whether there&amp;apos;s even more documentation countering his testimony on the matters.</p></div>,\n",
       " <div class=\"embed p\" data-reactid=\"200\"><p><strong>Date:</strong> <a href=\"https://www.vox.com/policy-and-politics/2018/9/13/17853934/read-brett-kavanaugh-written-answers\">September 10, 2018</a><br/>\n",
       " <strong>Under Oath:</strong> Mmmmhmmm</p></div>,\n",
       " <div class=\"embed p\" data-reactid=\"201\"><p>In responding to written questions, Kavanaugh repeatedly denied knowledge of Judge Alex Kozinski&amp;apos;s infamously inappropriate conduct, including e-mails (\"Easy Rider Gag List\") and sexual harassment, some of which led to Kozinski&amp;apos;s resignation after 15 women accused him of sexual misconduct. Kavanaugh clerked for Kozinski, who was the chief judge on the Ninth U.S. Circuit Court of Appeals, and maintained a close relationship. J. D. Vance wrote that Yale Law School dean Amy Chua, who wrote a glittering endorsement of Kavanaugh in <em>The Wall Street Journal,</em> told Vance that Kozinski was a \"<a href=\"https://twitter.com/JDVance1/status/1044427803356262402/photo/1\">scumbag</a>.\" One of Kozinski&amp;apos;s other former clerks, Heidi Bond, wrote in <a href=\"https://slate.com/news-and-politics/2018/09/kavanaugh-kozinski-gag-list-emails-senate-hearings.html\">Slate</a> that \"having clerked in his chambers, I do not know how it would be possible to forget something as pervasive as Kozinski&amp;apos;s famously sexual sense of humor or his gag list.\" It was an open secret in the legal community, particularly the very circles that include Kavanaugh.</p></div>]"
      ]
     },
     "execution_count": 8,
     "metadata": {},
     "output_type": "execute_result"
    }
   ],
   "source": [
    "soup.find_all('div', {'class': 'p'})"
   ]
  },
  {
   "cell_type": "code",
   "execution_count": 9,
   "metadata": {},
   "outputs": [
    {
     "data": {
      "text/plain": [
       "<h2 class=\"cm-header-dropdown__hed\" data-reactid=\"70\">Get Even More GQ This Month</h2>"
      ]
     },
     "execution_count": 9,
     "metadata": {},
     "output_type": "execute_result"
    }
   ],
   "source": [
    "soup.find('h2')"
   ]
  },
  {
   "cell_type": "code",
   "execution_count": 10,
   "metadata": {},
   "outputs": [
    {
     "data": {
      "text/plain": [
       "[<h2 class=\"cm-header-dropdown__hed\" data-reactid=\"70\">Get Even More GQ This Month</h2>,\n",
       " <h2><strong>\"No president has ever consulted more widely or talked with more people from more backgrounds to seek input about a Supreme Court nomination.\"</strong></h2>,\n",
       " <h2><strong>\"I grew up in a city plagued by gun violence and gang violence and drug violence.\"</strong></h2>,\n",
       " <h2><strong>\"I went to an all-boys Catholic high school, a Jesuit high school, where I was focused on academics and athletics, going to church every Sunday at Little Flower, working on my service projects, and friendship, friendship with my fellow classmates and friendship with girls from the local all-girls Catholic schools.\"</strong></h2>,\n",
       " <h2><strong>\"If such as thing had a happened, it would&amp;apos;ve been the talk of campus. The women I knew in college and the men I knew in college said that it&amp;apos;s inconceivable that I could&amp;apos;ve done such a thing.\"</strong></h2>,\n",
       " <h2><strong>\"I&amp;apos;ve always treated women with dignity and respect. Listen to…the women who have known me since high school, the 65 who overnight signed a letter from high school saying I always treated them with dignity and respect.\"</strong></h2>,\n",
       " <h2><strong>\"That yearbook reference was clumsily intended to show affection, and that she was one of us…It was not related to sex.\"</strong></h2>,\n",
       " <h2><strong>\"That refers to flatulence. We were 16.\"</strong></h2>,\n",
       " <h2><strong>\"Drinking game.\"</strong></h2>,\n",
       " <h2><strong>\"I&amp;apos;m known to have a weak stomach.\"</strong></h2>,\n",
       " <h2><strong>\"But I did not drink beer to the point of blacking out… Passed out would be—no, but I&amp;apos;ve gone to sleep, but—but I&amp;apos;ve never blacked out.\"</strong></h2>,\n",
       " <h2><strong>\"Dr. Ford&amp;apos;s allegation is not merely uncorroborated, it is refuted by the very people she says were there, including by a longtime friend of hers.\"</strong></h2>,\n",
       " <h2><strong>\"No. Again, I was not aware of that matter in any way whatsoever until I learned it in the media.\"</strong></h2>,\n",
       " <h2><strong>\"I&amp;apos;m not aware of the memos, I never saw such memos that I think you&amp;apos;re referring to. I mean, I don&amp;apos;t know what the universe of memos might be, but I do know that I never received any memos and was not aware of any such memos.\"</strong></h2>,\n",
       " <h2><strong>\"I was not involved and am not involved in the questions about the rules governing detention of combatants or—and so I do not have the involvement with that.\"</strong></h2>,\n",
       " <h2><strong>\"I do not remember any such comments.\"</strong></h2>]"
      ]
     },
     "execution_count": 10,
     "metadata": {},
     "output_type": "execute_result"
    }
   ],
   "source": [
    "soup.find_all('h2')"
   ]
  },
  {
   "cell_type": "code",
   "execution_count": 18,
   "metadata": {},
   "outputs": [
    {
     "data": {
      "text/plain": [
       "'\"No president has ever consulted more widely or talked with more people from more backgrounds to seek input about a Supreme Court nomination.\"'"
      ]
     },
     "execution_count": 18,
     "metadata": {},
     "output_type": "execute_result"
    }
   ],
   "source": [
    "soup.find('div', {'class': 'embed h2'}).text"
   ]
  },
  {
   "cell_type": "code",
   "execution_count": 19,
   "metadata": {},
   "outputs": [],
   "source": [
    "lies = soup.find_all('div', {'class': 'embed h2'})"
   ]
  },
  {
   "cell_type": "code",
   "execution_count": 20,
   "metadata": {},
   "outputs": [
    {
     "data": {
      "text/plain": [
       "15"
      ]
     },
     "execution_count": 20,
     "metadata": {},
     "output_type": "execute_result"
    }
   ],
   "source": [
    "len(lies)"
   ]
  },
  {
   "cell_type": "code",
   "execution_count": 21,
   "metadata": {},
   "outputs": [
    {
     "data": {
      "text/plain": [
       "<div class=\"embed h2\" data-reactid=\"155\"><h2><strong>\"No president has ever consulted more widely or talked with more people from more backgrounds to seek input about a Supreme Court nomination.\"</strong></h2></div>"
      ]
     },
     "execution_count": 21,
     "metadata": {},
     "output_type": "execute_result"
    }
   ],
   "source": [
    "lies[0]"
   ]
  },
  {
   "cell_type": "code",
   "execution_count": 22,
   "metadata": {},
   "outputs": [
    {
     "data": {
      "text/plain": [
       "[<div class=\"embed h2\" data-reactid=\"155\"><h2><strong>\"No president has ever consulted more widely or talked with more people from more backgrounds to seek input about a Supreme Court nomination.\"</strong></h2></div>,\n",
       " <div class=\"embed h2\" data-reactid=\"158\"><h2><strong>\"I grew up in a city plagued by gun violence and gang violence and drug violence.\"</strong></h2></div>,\n",
       " <div class=\"embed h2\" data-reactid=\"161\"><h2><strong>\"I went to an all-boys Catholic high school, a Jesuit high school, where I was focused on academics and athletics, going to church every Sunday at Little Flower, working on my service projects, and friendship, friendship with my fellow classmates and friendship with girls from the local all-girls Catholic schools.\"</strong></h2></div>,\n",
       " <div class=\"embed h2\" data-reactid=\"164\"><h2><strong>\"If such as thing had a happened, it would&amp;apos;ve been the talk of campus. The women I knew in college and the men I knew in college said that it&amp;apos;s inconceivable that I could&amp;apos;ve done such a thing.\"</strong></h2></div>,\n",
       " <div class=\"embed h2\" data-reactid=\"167\"><h2><strong>\"I&amp;apos;ve always treated women with dignity and respect. Listen to…the women who have known me since high school, the 65 who overnight signed a letter from high school saying I always treated them with dignity and respect.\"</strong></h2></div>,\n",
       " <div class=\"embed h2\" data-reactid=\"170\"><h2><strong>\"That yearbook reference was clumsily intended to show affection, and that she was one of us…It was not related to sex.\"</strong></h2></div>,\n",
       " <div class=\"embed h2\" data-reactid=\"174\"><h2><strong>\"That refers to flatulence. We were 16.\"</strong></h2></div>,\n",
       " <div class=\"embed h2\" data-reactid=\"177\"><h2><strong>\"Drinking game.\"</strong></h2></div>,\n",
       " <div class=\"embed h2\" data-reactid=\"180\"><h2><strong>\"I&amp;apos;m known to have a weak stomach.\"</strong></h2></div>,\n",
       " <div class=\"embed h2\" data-reactid=\"183\"><h2><strong>\"But I did not drink beer to the point of blacking out… Passed out would be—no, but I&amp;apos;ve gone to sleep, but—but I&amp;apos;ve never blacked out.\"</strong></h2></div>,\n",
       " <div class=\"embed h2\" data-reactid=\"187\"><h2><strong>\"Dr. Ford&amp;apos;s allegation is not merely uncorroborated, it is refuted by the very people she says were there, including by a longtime friend of hers.\"</strong></h2></div>,\n",
       " <div class=\"embed h2\" data-reactid=\"190\"><h2><strong>\"No. Again, I was not aware of that matter in any way whatsoever until I learned it in the media.\"</strong></h2></div>,\n",
       " <div class=\"embed h2\" data-reactid=\"193\"><h2><strong>\"I&amp;apos;m not aware of the memos, I never saw such memos that I think you&amp;apos;re referring to. I mean, I don&amp;apos;t know what the universe of memos might be, but I do know that I never received any memos and was not aware of any such memos.\"</strong></h2></div>,\n",
       " <div class=\"embed h2\" data-reactid=\"196\"><h2><strong>\"I was not involved and am not involved in the questions about the rules governing detention of combatants or—and so I do not have the involvement with that.\"</strong></h2></div>,\n",
       " <div class=\"embed h2\" data-reactid=\"199\"><h2><strong>\"I do not remember any such comments.\"</strong></h2></div>]"
      ]
     },
     "execution_count": 22,
     "metadata": {},
     "output_type": "execute_result"
    }
   ],
   "source": [
    "lies"
   ]
  },
  {
   "cell_type": "code",
   "execution_count": 25,
   "metadata": {},
   "outputs": [],
   "source": [
    "lyes = []\n",
    "for lie in lies:\n",
    "    lyes.append(lie.text)\n",
    "    \n",
    "#append = add like in c#\n",
    "#del = remove from the list in c#"
   ]
  },
  {
   "cell_type": "code",
   "execution_count": 24,
   "metadata": {},
   "outputs": [
    {
     "data": {
      "text/plain": [
       "['\"No president has ever consulted more widely or talked with more people from more backgrounds to seek input about a Supreme Court nomination.\"',\n",
       " '\"I grew up in a city plagued by gun violence and gang violence and drug violence.\"',\n",
       " '\"I went to an all-boys Catholic high school, a Jesuit high school, where I was focused on academics and athletics, going to church every Sunday at Little Flower, working on my service projects, and friendship, friendship with my fellow classmates and friendship with girls from the local all-girls Catholic schools.\"',\n",
       " '\"If such as thing had a happened, it would&apos;ve been the talk of campus. The women I knew in college and the men I knew in college said that it&apos;s inconceivable that I could&apos;ve done such a thing.\"',\n",
       " '\"I&apos;ve always treated women with dignity and respect. Listen to…the women who have known me since high school, the 65 who overnight signed a letter from high school saying I always treated them with dignity and respect.\"',\n",
       " '\"That yearbook reference was clumsily intended to show affection, and that she was one of us…It was not related to sex.\"',\n",
       " '\"That refers to flatulence. We were 16.\"',\n",
       " '\"Drinking game.\"',\n",
       " '\"I&apos;m known to have a weak stomach.\"',\n",
       " '\"But I did not drink beer to the point of blacking out… Passed out would be—no, but I&apos;ve gone to sleep, but—but I&apos;ve never blacked out.\"',\n",
       " '\"Dr. Ford&apos;s allegation is not merely uncorroborated, it is refuted by the very people she says were there, including by a longtime friend of hers.\"',\n",
       " '\"No. Again, I was not aware of that matter in any way whatsoever until I learned it in the media.\"',\n",
       " '\"I&apos;m not aware of the memos, I never saw such memos that I think you&apos;re referring to. I mean, I don&apos;t know what the universe of memos might be, but I do know that I never received any memos and was not aware of any such memos.\"',\n",
       " '\"I was not involved and am not involved in the questions about the rules governing detention of combatants or—and so I do not have the involvement with that.\"',\n",
       " '\"I do not remember any such comments.\"']"
      ]
     },
     "execution_count": 24,
     "metadata": {},
     "output_type": "execute_result"
    }
   ],
   "source": [
    "lyes"
   ]
  },
  {
   "cell_type": "code",
   "execution_count": 26,
   "metadata": {},
   "outputs": [
    {
     "data": {
      "text/plain": [
       "<div class=\"embed p\" data-reactid=\"149\"><p>It is not that often that four of a judicial nominee&amp;apos;s high school and college classmates go on the record to question his honesty. But so it goes with Brett Kavanaugh, Donald Trump&amp;apos;s post-truth Supreme Court nominee.</p></div>"
      ]
     },
     "execution_count": 26,
     "metadata": {},
     "output_type": "execute_result"
    }
   ],
   "source": [
    "soup.find('div', {'class': 'embed p'})"
   ]
  },
  {
   "cell_type": "code",
   "execution_count": 27,
   "metadata": {},
   "outputs": [],
   "source": [
    "links = soup.find_all('div', {'class': 'embed p'})"
   ]
  },
  {
   "cell_type": "code",
   "execution_count": 31,
   "metadata": {},
   "outputs": [
    {
     "data": {
      "text/plain": [
       "38"
      ]
     },
     "execution_count": 31,
     "metadata": {},
     "output_type": "execute_result"
    }
   ],
   "source": [
    "len(links)\n",
    "#shows the amount in the list"
   ]
  },
  {
   "cell_type": "code",
   "execution_count": 32,
   "metadata": {},
   "outputs": [
    {
     "data": {
      "text/plain": [
       "<div class=\"embed p\" data-reactid=\"176\"><p>In reviewing more of Kavanaugh&amp;apos;s 1983 high school yearbook page, Senator Sheldon Whitehouse (D-RI) asked him what \"boofed\" meant in his entry \"Judge, have you boofed yet?\" and, well, Kavanaugh proffered a completely new definition for the slang. <em>The New York Times</em> <a href=\"https://www.nytimes.com/2018/09/28/us/politics/brett-kavanaugh-fact-check.html\">interviewed</a> multiple Georgetown Prep classmates prior to his testimony, and none had heard of his definition but identified it by the more commonly known meaning of anal sex in the 1980s.</p></div>"
      ]
     },
     "execution_count": 32,
     "metadata": {},
     "output_type": "execute_result"
    }
   ],
   "source": [
    "links[20]\n",
    "#20, placed in the array/list"
   ]
  },
  {
   "cell_type": "code",
   "execution_count": null,
   "metadata": {},
   "outputs": [],
   "source": []
  }
 ],
 "metadata": {
  "kernelspec": {
   "display_name": "Python 3",
   "language": "python",
   "name": "python3"
  },
  "language_info": {
   "codemirror_mode": {
    "name": "ipython",
    "version": 3
   },
   "file_extension": ".py",
   "mimetype": "text/x-python",
   "name": "python",
   "nbconvert_exporter": "python",
   "pygments_lexer": "ipython3",
   "version": "3.6.5"
  }
 },
 "nbformat": 4,
 "nbformat_minor": 2
}
