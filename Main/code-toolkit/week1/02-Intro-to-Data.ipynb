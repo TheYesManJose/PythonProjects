{
 "cells": [
  {
   "cell_type": "markdown",
   "metadata": {},
   "source": [
    "# Introduction to Data\n",
    "\n",
    "While many scientific investigations may begin with an abstract question, this is usually revised in terms of constraints on available information and resources.  In this class, we will often be limited to available data in semi or well structured formats.  Accordingly, we want to be good at asking two different kinds of questions; **Descriptive** and **Inferential**.\n",
    "\n"
   ]
  },
  {
   "cell_type": "markdown",
   "metadata": {},
   "source": [
    "### Example I: Ames Housing\n",
    "\n",
    "This dataset represents information about houses in Ames Iowa.  Here is a link to the description of the dataset:\n",
    "\n",
    "- [Ames Housing Description](https://ww2.amstat.org/publications/jse/v19n3/decock/DataDocumentation.txt)\n",
    "\n",
    "Your goal is to consider the different kinds of information available, and to generate at least two *descriptive* and two *inferential* questions about the dataset.  Is there any data that you anticipate being problematic?  "
   ]
  },
  {
   "cell_type": "markdown",
   "metadata": {},
   "source": [
    "### Example II: Donors Choose\n",
    "\n",
    "A popular website for learning data science is [kaggle.com](https://www.kaggle.com/).  A recent competition involved a dataset from the organization *Donors Choose* that supports grants to teachers.  They framed the problem as follows:\n",
    "\n",
    "---\n",
    "\n",
    "<div class=\"alert alert-info\" role=\"alert\">\n",
    "\n",
    "Next year, DonorsChoose.org expects to receive close to 500,000 project proposals. As a result, there are three main problems they need to solve:\n",
    "\n",
    "1. How to scale current manual processes and resources to screen 500,000 projects so that they can be posted as quickly and as efficiently as possible\n",
    "\n",
    "2. How to increase the consistency of project vetting across different volunteers to improve the experience for teachers\n",
    "\n",
    "3. How to focus volunteer time on the applications that need the most assistance\n",
    "\n",
    "The goal of the competition is to predict whether or not a DonorsChoose.org project proposal submitted by a teacher will be approved, using the text of project descriptions as well as additional metadata about the project, teacher, and school. DonorsChoose.org can then use this information to identify projects most likely to need further review before approval.\n",
    "</div>\n",
    "---\n",
    "\n",
    "See the full data description [here](https://www.kaggle.com/c/donorschoose-application-screening/data).  Again, your goal is to identify at least two *inferential* and two *descriptive* questions around this dataset."
   ]
  },
  {
   "cell_type": "markdown",
   "metadata": {},
   "source": [
    "### Example III: NYC Open Data\n",
    "\n",
    "---\n",
    "\n",
    "![](https://opendata.cityofnewyork.us/wp-content/themes/opendata-wp/assets/img/nyc-open-data-logo.svg)\n",
    "\n",
    "Many city and state agencies have begun providing access to data through API's.  One example is the NYC Open Data located [here](https://opendata.cityofnewyork.us/).  For example, if we wanted to use the dataset with information about restaurant meal information we find the code necessary to import the data.  Quickly, we have this up and running in a Jupyter notebook and are ready to explore."
   ]
  },
  {
   "cell_type": "markdown",
   "metadata": {},
   "source": [
    "- Load the libraries: `pandas`, `matplotli`, and `numpy`"
   ]
  },
  {
   "cell_type": "code",
   "execution_count": 2,
   "metadata": {},
   "outputs": [],
   "source": [
    "%matplotlib inline\n",
    "import matplotlib.pyplot as plt\n",
    "import pandas as pd\n",
    "import numpy as np"
   ]
  },
  {
   "cell_type": "markdown",
   "metadata": {},
   "source": [
    "- Load in the data as a `DateFrame`"
   ]
  },
  {
   "cell_type": "code",
   "execution_count": 3,
   "metadata": {},
   "outputs": [],
   "source": [
    "nyc_311 = pd.read_json('https://data.cityofnewyork.us/resource/xk2u-49gx.json')"
   ]
  },
  {
   "cell_type": "code",
   "execution_count": 4,
   "metadata": {},
   "outputs": [
    {
     "data": {
      "text/html": [
       "<div>\n",
       "<style scoped>\n",
       "    .dataframe tbody tr th:only-of-type {\n",
       "        vertical-align: middle;\n",
       "    }\n",
       "\n",
       "    .dataframe tbody tr th {\n",
       "        vertical-align: top;\n",
       "    }\n",
       "\n",
       "    .dataframe thead th {\n",
       "        text-align: right;\n",
       "    }\n",
       "</style>\n",
       "<table border=\"1\" class=\"dataframe\">\n",
       "  <thead>\n",
       "    <tr style=\"text-align: right;\">\n",
       "      <th></th>\n",
       "      <th>address_type</th>\n",
       "      <th>agency</th>\n",
       "      <th>agency_name</th>\n",
       "      <th>borough</th>\n",
       "      <th>bridge_highway_direction</th>\n",
       "      <th>city</th>\n",
       "      <th>closed_date</th>\n",
       "      <th>community_board</th>\n",
       "      <th>complaint_type</th>\n",
       "      <th>created_date</th>\n",
       "      <th>...</th>\n",
       "      <th>school_number</th>\n",
       "      <th>school_or_citywide_complaint</th>\n",
       "      <th>school_phone_number</th>\n",
       "      <th>school_region</th>\n",
       "      <th>school_state</th>\n",
       "      <th>school_zip</th>\n",
       "      <th>status</th>\n",
       "      <th>street_name</th>\n",
       "      <th>taxi_pick_up_location</th>\n",
       "      <th>unique_key</th>\n",
       "    </tr>\n",
       "  </thead>\n",
       "  <tbody>\n",
       "    <tr>\n",
       "      <th>0</th>\n",
       "      <td>NaN</td>\n",
       "      <td>TLC</td>\n",
       "      <td>Correspondence - Taxi and Limousine Commission</td>\n",
       "      <td>Unspecified</td>\n",
       "      <td>NaN</td>\n",
       "      <td>NaN</td>\n",
       "      <td>2005-01-12T00:00:00.000</td>\n",
       "      <td>0 Unspecified</td>\n",
       "      <td>Taxi Compliment</td>\n",
       "      <td>2005-01-04T00:00:00.000</td>\n",
       "      <td>...</td>\n",
       "      <td>Unspecified</td>\n",
       "      <td>NaN</td>\n",
       "      <td>Unspecified</td>\n",
       "      <td>Unspecified</td>\n",
       "      <td>Unspecified</td>\n",
       "      <td>Unspecified</td>\n",
       "      <td>Closed</td>\n",
       "      <td>NaN</td>\n",
       "      <td>NaN</td>\n",
       "      <td>33827</td>\n",
       "    </tr>\n",
       "    <tr>\n",
       "      <th>1</th>\n",
       "      <td>NaN</td>\n",
       "      <td>DPR</td>\n",
       "      <td>Department of Parks and Recreation</td>\n",
       "      <td>MANHATTAN</td>\n",
       "      <td>NaN</td>\n",
       "      <td>NEW YORK</td>\n",
       "      <td>2005-01-03T00:00:00.000</td>\n",
       "      <td>10 MANHATTAN</td>\n",
       "      <td>Animal in a Park</td>\n",
       "      <td>2005-01-03T00:00:00.000</td>\n",
       "      <td>...</td>\n",
       "      <td>Unspecified</td>\n",
       "      <td>NaN</td>\n",
       "      <td>Unspecified</td>\n",
       "      <td>Unspecified</td>\n",
       "      <td>Unspecified</td>\n",
       "      <td>Unspecified</td>\n",
       "      <td>Closed</td>\n",
       "      <td>NaN</td>\n",
       "      <td>NaN</td>\n",
       "      <td>33840</td>\n",
       "    </tr>\n",
       "    <tr>\n",
       "      <th>2</th>\n",
       "      <td>NaN</td>\n",
       "      <td>DPR</td>\n",
       "      <td>Department of Parks and Recreation</td>\n",
       "      <td>BROOKLYN</td>\n",
       "      <td>NaN</td>\n",
       "      <td>BROOKLYN</td>\n",
       "      <td>2005-01-07T00:00:00.000</td>\n",
       "      <td>06 BROOKLYN</td>\n",
       "      <td>Maintenance or Facility</td>\n",
       "      <td>2005-01-04T00:00:00.000</td>\n",
       "      <td>...</td>\n",
       "      <td>Unspecified</td>\n",
       "      <td>NaN</td>\n",
       "      <td>Unspecified</td>\n",
       "      <td>Unspecified</td>\n",
       "      <td>Unspecified</td>\n",
       "      <td>Unspecified</td>\n",
       "      <td>Closed</td>\n",
       "      <td>NaN</td>\n",
       "      <td>NaN</td>\n",
       "      <td>33845</td>\n",
       "    </tr>\n",
       "    <tr>\n",
       "      <th>3</th>\n",
       "      <td>NaN</td>\n",
       "      <td>DPR</td>\n",
       "      <td>Department of Parks and Recreation</td>\n",
       "      <td>BROOKLYN</td>\n",
       "      <td>NaN</td>\n",
       "      <td>BROOKLYN</td>\n",
       "      <td>2005-01-07T00:00:00.000</td>\n",
       "      <td>16 BROOKLYN</td>\n",
       "      <td>Maintenance or Facility</td>\n",
       "      <td>2005-01-04T00:00:00.000</td>\n",
       "      <td>...</td>\n",
       "      <td>Unspecified</td>\n",
       "      <td>NaN</td>\n",
       "      <td>Unspecified</td>\n",
       "      <td>Unspecified</td>\n",
       "      <td>Unspecified</td>\n",
       "      <td>Unspecified</td>\n",
       "      <td>Closed</td>\n",
       "      <td>NaN</td>\n",
       "      <td>NaN</td>\n",
       "      <td>33846</td>\n",
       "    </tr>\n",
       "    <tr>\n",
       "      <th>4</th>\n",
       "      <td>NaN</td>\n",
       "      <td>DOT</td>\n",
       "      <td>Department of Transportation</td>\n",
       "      <td>MANHATTAN</td>\n",
       "      <td>NaN</td>\n",
       "      <td>NaN</td>\n",
       "      <td>2005-01-04T00:00:00.000</td>\n",
       "      <td>Unspecified MANHATTAN</td>\n",
       "      <td>Highway Condition</td>\n",
       "      <td>2005-01-04T00:00:00.000</td>\n",
       "      <td>...</td>\n",
       "      <td>Unspecified</td>\n",
       "      <td>NaN</td>\n",
       "      <td>Unspecified</td>\n",
       "      <td>Unspecified</td>\n",
       "      <td>Unspecified</td>\n",
       "      <td>Unspecified</td>\n",
       "      <td>Closed</td>\n",
       "      <td>NaN</td>\n",
       "      <td>NaN</td>\n",
       "      <td>34152</td>\n",
       "    </tr>\n",
       "  </tbody>\n",
       "</table>\n",
       "<p>5 rows × 38 columns</p>\n",
       "</div>"
      ],
      "text/plain": [
       "  address_type agency                                     agency_name  \\\n",
       "0          NaN    TLC  Correspondence - Taxi and Limousine Commission   \n",
       "1          NaN    DPR              Department of Parks and Recreation   \n",
       "2          NaN    DPR              Department of Parks and Recreation   \n",
       "3          NaN    DPR              Department of Parks and Recreation   \n",
       "4          NaN    DOT                    Department of Transportation   \n",
       "\n",
       "       borough bridge_highway_direction      city              closed_date  \\\n",
       "0  Unspecified                      NaN       NaN  2005-01-12T00:00:00.000   \n",
       "1    MANHATTAN                      NaN  NEW YORK  2005-01-03T00:00:00.000   \n",
       "2     BROOKLYN                      NaN  BROOKLYN  2005-01-07T00:00:00.000   \n",
       "3     BROOKLYN                      NaN  BROOKLYN  2005-01-07T00:00:00.000   \n",
       "4    MANHATTAN                      NaN       NaN  2005-01-04T00:00:00.000   \n",
       "\n",
       "         community_board           complaint_type             created_date  \\\n",
       "0          0 Unspecified          Taxi Compliment  2005-01-04T00:00:00.000   \n",
       "1           10 MANHATTAN         Animal in a Park  2005-01-03T00:00:00.000   \n",
       "2            06 BROOKLYN  Maintenance or Facility  2005-01-04T00:00:00.000   \n",
       "3            16 BROOKLYN  Maintenance or Facility  2005-01-04T00:00:00.000   \n",
       "4  Unspecified MANHATTAN        Highway Condition  2005-01-04T00:00:00.000   \n",
       "\n",
       "     ...     school_number school_or_citywide_complaint school_phone_number  \\\n",
       "0    ...       Unspecified                          NaN         Unspecified   \n",
       "1    ...       Unspecified                          NaN         Unspecified   \n",
       "2    ...       Unspecified                          NaN         Unspecified   \n",
       "3    ...       Unspecified                          NaN         Unspecified   \n",
       "4    ...       Unspecified                          NaN         Unspecified   \n",
       "\n",
       "  school_region school_state   school_zip  status street_name  \\\n",
       "0   Unspecified  Unspecified  Unspecified  Closed         NaN   \n",
       "1   Unspecified  Unspecified  Unspecified  Closed         NaN   \n",
       "2   Unspecified  Unspecified  Unspecified  Closed         NaN   \n",
       "3   Unspecified  Unspecified  Unspecified  Closed         NaN   \n",
       "4   Unspecified  Unspecified  Unspecified  Closed         NaN   \n",
       "\n",
       "  taxi_pick_up_location unique_key  \n",
       "0                   NaN      33827  \n",
       "1                   NaN      33840  \n",
       "2                   NaN      33845  \n",
       "3                   NaN      33846  \n",
       "4                   NaN      34152  \n",
       "\n",
       "[5 rows x 38 columns]"
      ]
     },
     "execution_count": 4,
     "metadata": {},
     "output_type": "execute_result"
    }
   ],
   "source": [
    "nyc_311.head()"
   ]
  },
  {
   "cell_type": "code",
   "execution_count": 5,
   "metadata": {},
   "outputs": [
    {
     "name": "stdout",
     "output_type": "stream",
     "text": [
      "<class 'pandas.core.frame.DataFrame'>\n",
      "RangeIndex: 1000 entries, 0 to 999\n",
      "Data columns (total 38 columns):\n",
      "address_type                      52 non-null object\n",
      "agency                            1000 non-null object\n",
      "agency_name                       1000 non-null object\n",
      "borough                           1000 non-null object\n",
      "bridge_highway_direction          70 non-null object\n",
      "city                              291 non-null object\n",
      "closed_date                       998 non-null object\n",
      "community_board                   1000 non-null object\n",
      "complaint_type                    1000 non-null object\n",
      "created_date                      1000 non-null object\n",
      "cross_street_1                    136 non-null object\n",
      "cross_street_2                    133 non-null object\n",
      "descriptor                        1000 non-null object\n",
      "facility_type                     990 non-null object\n",
      "ferry_direction                   83 non-null object\n",
      "incident_address                  224 non-null object\n",
      "incident_zip                      220 non-null object\n",
      "intersection_street_1             224 non-null object\n",
      "intersection_street_2             224 non-null object\n",
      "landmark                          10 non-null object\n",
      "location_type                     621 non-null object\n",
      "park_borough                      1000 non-null object\n",
      "park_facility_name                1000 non-null object\n",
      "resolution_action_updated_date    326 non-null object\n",
      "school_address                    1000 non-null object\n",
      "school_city                       1000 non-null object\n",
      "school_code                       1000 non-null object\n",
      "school_name                       1000 non-null object\n",
      "school_number                     1000 non-null object\n",
      "school_or_citywide_complaint      26 non-null object\n",
      "school_phone_number               1000 non-null object\n",
      "school_region                     1000 non-null object\n",
      "school_state                      1000 non-null object\n",
      "school_zip                        1000 non-null object\n",
      "status                            1000 non-null object\n",
      "street_name                       224 non-null object\n",
      "taxi_pick_up_location             125 non-null object\n",
      "unique_key                        1000 non-null int64\n",
      "dtypes: int64(1), object(37)\n",
      "memory usage: 297.0+ KB\n"
     ]
    }
   ],
   "source": [
    "nyc_311.info()"
   ]
  },
  {
   "cell_type": "code",
   "execution_count": 6,
   "metadata": {},
   "outputs": [
    {
     "data": {
      "text/plain": [
       "0                                Taxi Compliment\n",
       "1                               Animal in a Park\n",
       "2                        Maintenance or Facility\n",
       "3                        Maintenance or Facility\n",
       "4                              Highway Condition\n",
       "5                        Maintenance or Facility\n",
       "6                                  Ferry Inquiry\n",
       "7      DCA / DOH New License Application Request\n",
       "8                                Taxi Compliment\n",
       "9                          Street Sign - Damaged\n",
       "10                                 Ferry Inquiry\n",
       "11                              Street Condition\n",
       "12                         Street Sign - Damaged\n",
       "13                               Taxi Compliment\n",
       "14                       Maintenance or Facility\n",
       "15     DCA / DOH New License Application Request\n",
       "16                       Maintenance or Facility\n",
       "17                              Street Condition\n",
       "18                             Highway Condition\n",
       "19                             Highway Condition\n",
       "20                                Taxi Complaint\n",
       "21                              Animal in a Park\n",
       "22                                Taxi Complaint\n",
       "23                                Taxi Complaint\n",
       "24                             Highway Condition\n",
       "25                              Street Condition\n",
       "26                                 Ferry Inquiry\n",
       "27                                Taxi Complaint\n",
       "28                             Highway Condition\n",
       "29                               Taxi Compliment\n",
       "                         ...                    \n",
       "970                             Street Condition\n",
       "971                  DOE Complaint or Compliment\n",
       "972                             Animal in a Park\n",
       "973                               Taxi Complaint\n",
       "974                             Street Condition\n",
       "975                      Maintenance or Facility\n",
       "976                     Traffic Signal Condition\n",
       "977                                Ferry Inquiry\n",
       "978                                Ferry Inquiry\n",
       "979                                Ferry Inquiry\n",
       "980                             Street Condition\n",
       "981                             Street Condition\n",
       "982                                Ferry Inquiry\n",
       "983                              Taxi Compliment\n",
       "984                             Animal in a Park\n",
       "985                               Taxi Complaint\n",
       "986    DCA / DOH New License Application Request\n",
       "987                              Taxi Compliment\n",
       "988                       Street Light Condition\n",
       "989                              Taxi Compliment\n",
       "990    DCA / DOH New License Application Request\n",
       "991                            Highway Condition\n",
       "992                             Street Condition\n",
       "993    DCA / DOH New License Application Request\n",
       "994                              Taxi Compliment\n",
       "995                       Street Light Condition\n",
       "996    DCA / DOH New License Application Request\n",
       "997                       Street Light Condition\n",
       "998                              Taxi Compliment\n",
       "999                       Street Light Condition\n",
       "Name: complaint_type, Length: 1000, dtype: object"
      ]
     },
     "execution_count": 6,
     "metadata": {},
     "output_type": "execute_result"
    }
   ],
   "source": [
    "#select a column\n",
    "nyc_311['complaint_type']"
   ]
  },
  {
   "cell_type": "code",
   "execution_count": 7,
   "metadata": {},
   "outputs": [
    {
     "data": {
      "text/plain": [
       "Street Condition                             152\n",
       "DCA / DOH New License Application Request    134\n",
       "Taxi Complaint                               122\n",
       "Maintenance or Facility                      109\n",
       "Taxi Compliment                              105\n",
       "Ferry Inquiry                                 83\n",
       "Animal in a Park                              68\n",
       "Street Sign - Damaged                         65\n",
       "Highway Condition                             62\n",
       "DOE Complaint or Compliment                   21\n",
       "Violation of Park Rules                       21\n",
       "Drinking                                       8\n",
       "Volunteer Placement Request                    7\n",
       "Food Establishment                             7\n",
       "Overgrown Tree/Branches                        5\n",
       "Homeless Encampment                            5\n",
       "Street Light Condition                         5\n",
       "Rodent                                         3\n",
       "Discipline and Suspension                      3\n",
       "Found Property                                 3\n",
       "Health and Safety                              2\n",
       "Sidewalk Condition                             2\n",
       "Traffic Signal Condition                       2\n",
       "Window Guard                                   1\n",
       "Root/Sewer/Sidewalk Condition                  1\n",
       "Public Payphone Complaint                      1\n",
       "Bus Stop Shelter Placement                     1\n",
       "TLC Medallion Request                          1\n",
       "Street Sign - Missing                          1\n",
       "Name: complaint_type, dtype: int64"
      ]
     },
     "execution_count": 7,
     "metadata": {},
     "output_type": "execute_result"
    }
   ],
   "source": [
    "#get value counts\n",
    "nyc_311['complaint_type'].value_counts()"
   ]
  },
  {
   "cell_type": "code",
   "execution_count": 8,
   "metadata": {},
   "outputs": [
    {
     "data": {
      "text/plain": [
       "0      False\n",
       "1      False\n",
       "2       True\n",
       "3       True\n",
       "4      False\n",
       "5      False\n",
       "6      False\n",
       "7      False\n",
       "8      False\n",
       "9       True\n",
       "10     False\n",
       "11     False\n",
       "12     False\n",
       "13     False\n",
       "14      True\n",
       "15     False\n",
       "16     False\n",
       "17     False\n",
       "18     False\n",
       "19     False\n",
       "20     False\n",
       "21     False\n",
       "22     False\n",
       "23     False\n",
       "24     False\n",
       "25     False\n",
       "26     False\n",
       "27     False\n",
       "28     False\n",
       "29     False\n",
       "       ...  \n",
       "970    False\n",
       "971    False\n",
       "972    False\n",
       "973    False\n",
       "974    False\n",
       "975    False\n",
       "976    False\n",
       "977    False\n",
       "978    False\n",
       "979    False\n",
       "980    False\n",
       "981    False\n",
       "982    False\n",
       "983    False\n",
       "984    False\n",
       "985    False\n",
       "986    False\n",
       "987    False\n",
       "988    False\n",
       "989    False\n",
       "990    False\n",
       "991    False\n",
       "992    False\n",
       "993    False\n",
       "994    False\n",
       "995    False\n",
       "996    False\n",
       "997    False\n",
       "998    False\n",
       "999    False\n",
       "Name: borough, Length: 1000, dtype: bool"
      ]
     },
     "execution_count": 8,
     "metadata": {},
     "output_type": "execute_result"
    }
   ],
   "source": [
    "nyc_311['borough'] == 'BROOKLYN'"
   ]
  },
  {
   "cell_type": "code",
   "execution_count": 30,
   "metadata": {},
   "outputs": [],
   "source": [
    "bk = nyc_311[nyc_311['borough'] == 'BROOKLYN']"
   ]
  },
  {
   "cell_type": "code",
   "execution_count": 31,
   "metadata": {},
   "outputs": [
    {
     "data": {
      "text/plain": [
       "Maintenance or Facility    26\n",
       "Street Sign - Damaged      19\n",
       "Street Condition           17\n",
       "Animal in a Park           13\n",
       "Highway Condition          12\n",
       "Taxi Complaint              4\n",
       "Drinking                    3\n",
       "Violation of Park Rules     3\n",
       "Homeless Encampment         2\n",
       "Overgrown Tree/Branches     2\n",
       "Food Establishment          1\n",
       "Sidewalk Condition          1\n",
       "Window Guard                1\n",
       "Rodent                      1\n",
       "Name: complaint_type, dtype: int64"
      ]
     },
     "execution_count": 31,
     "metadata": {},
     "output_type": "execute_result"
    }
   ],
   "source": [
    "bk['complaint_type'].value_counts()"
   ]
  },
  {
   "cell_type": "code",
   "execution_count": 13,
   "metadata": {},
   "outputs": [],
   "source": [
    "bkplot = bk['complaint_type'].value_counts()"
   ]
  },
  {
   "cell_type": "code",
   "execution_count": 28,
   "metadata": {},
   "outputs": [
    {
     "data": {
      "text/plain": [
       "{'whiskers': [<matplotlib.lines.Line2D at 0x11fe99630>,\n",
       "  <matplotlib.lines.Line2D at 0x11fe99ac8>],\n",
       " 'caps': [<matplotlib.lines.Line2D at 0x11fe99ef0>,\n",
       "  <matplotlib.lines.Line2D at 0x11fea0358>],\n",
       " 'boxes': [<matplotlib.lines.Line2D at 0x11fe994e0>],\n",
       " 'medians': [<matplotlib.lines.Line2D at 0x11fea0780>],\n",
       " 'fliers': [<matplotlib.lines.Line2D at 0x11fea0ba8>],\n",
       " 'means': []}"
      ]
     },
     "execution_count": 28,
     "metadata": {},
     "output_type": "execute_result"
    },
    {
     "data": {
      "image/png": "[encoded data removed]",
      "text/plain": [
       "<Figure size 432x288 with 1 Axes>"
      ]
     },
     "metadata": {},
     "output_type": "display_data"
    }
   ],
   "source": [
    "plt.boxplot([1,3,2,5])"
   ]
  },
  {
   "cell_type": "code",
   "execution_count": 29,
   "metadata": {},
   "outputs": [
    {
     "data": {
      "text/plain": [
       "Maintenance or Facility    26\n",
       "Street Sign - Damaged      19\n",
       "Street Condition           17\n",
       "Animal in a Park           13\n",
       "Highway Condition          12\n",
       "Taxi Complaint              4\n",
       "Drinking                    3\n",
       "Violation of Park Rules     3\n",
       "Homeless Encampment         2\n",
       "Overgrown Tree/Branches     2\n",
       "Food Establishment          1\n",
       "Sidewalk Condition          1\n",
       "Window Guard                1\n",
       "Rodent                      1\n",
       "Name: complaint_type, dtype: int64"
      ]
     },
     "execution_count": 29,
     "metadata": {},
     "output_type": "execute_result"
    }
   ],
   "source": [
    "bkplot"
   ]
  },
  {
   "cell_type": "code",
   "execution_count": 16,
   "metadata": {},
   "outputs": [
    {
     "data": {
      "text/plain": [
       "(14,)"
      ]
     },
     "execution_count": 16,
     "metadata": {},
     "output_type": "execute_result"
    }
   ],
   "source": [
    "bkplot.shape"
   ]
  },
  {
   "cell_type": "code",
   "execution_count": 17,
   "metadata": {},
   "outputs": [
    {
     "data": {
      "text/plain": [
       "Index(['Maintenance or Facility', 'Street Sign - Damaged', 'Street Condition',\n",
       "       'Animal in a Park', 'Highway Condition'],\n",
       "      dtype='object')"
      ]
     },
     "execution_count": 17,
     "metadata": {},
     "output_type": "execute_result"
    }
   ],
   "source": [
    "bkplot.index[:5]"
   ]
  },
  {
   "cell_type": "code",
   "execution_count": 22,
   "metadata": {},
   "outputs": [
    {
     "data": {
      "text/plain": [
       "Maintenance or Facility    26\n",
       "Street Sign - Damaged      19\n",
       "Street Condition           17\n",
       "Animal in a Park           13\n",
       "Highway Condition          12\n",
       "Name: complaint_type, dtype: int64"
      ]
     },
     "execution_count": 22,
     "metadata": {},
     "output_type": "execute_result"
    }
   ],
   "source": [
    "bkplot[:5]"
   ]
  },
  {
   "cell_type": "code",
   "execution_count": 23,
   "metadata": {},
   "outputs": [
    {
     "data": {
      "text/plain": [
       "([0, 1, 2, 3, 4], <a list of 5 Text xticklabel objects>)"
      ]
     },
     "execution_count": 23,
     "metadata": {},
     "output_type": "execute_result"
    },
    {
     "data": {
      "image/png": "[encoded data removed]",
      "text/plain": [
       "<Figure size 432x288 with 1 Axes>"
      ]
     },
     "metadata": {},
     "output_type": "display_data"
    }
   ],
   "source": [
    "plt.bar(bkplot.index[:5], bkplot[:5])\n",
    "plt.xticks(rotation = 80)\n",
    "\n"
   ]
  },
  {
   "cell_type": "code",
   "execution_count": null,
   "metadata": {},
   "outputs": [],
   "source": []
  },
  {
   "cell_type": "code",
   "execution_count": null,
   "metadata": {},
   "outputs": [],
   "source": []
  },
  {
   "cell_type": "code",
   "execution_count": 27,
   "metadata": {},
   "outputs": [
    {
     "ename": "SyntaxError",
     "evalue": "invalid syntax (<ipython-input-27-949a6487481b>, line 1)",
     "output_type": "error",
     "traceback": [
      "\u001b[0;36m  File \u001b[0;32m\"<ipython-input-27-949a6487481b>\"\u001b[0;36m, line \u001b[0;32m1\u001b[0m\n\u001b[0;31m    ```python\u001b[0m\n\u001b[0m    ^\u001b[0m\n\u001b[0;31mSyntaxError\u001b[0m\u001b[0;31m:\u001b[0m invalid syntax\n"
     ]
    }
   ],
   "source": [
    "```python\n",
    "import pandas as pd\n",
    "from sodapy import Socrata\n",
    "\n",
    "# Unauthenticated client only works with public data sets. Note 'None'\n",
    "# in place of application token, and no username or password:\n",
    "client = Socrata(\"data.cityofnewyork.us\", None)\n",
    "\n",
    "# Example authenticated client (needed for non-public datasets):\n",
    "# client = Socrata(data.cityofnewyork.us,\n",
    "#                  MyAppToken,\n",
    "#                  userame=\"user@example.com\",\n",
    "#                  password=\"AFakePassword\")\n",
    "\n",
    "# First 2000 results, returned as JSON from API / converted to Python list of\n",
    "# dictionaries by sodapy.\n",
    "results = client.get(\"r3pg-q9c3\", limit=31000)\n",
    "\n",
    "# Convert to pandas DataFrame\n",
    "results_df = pd.DataFrame.from_records(results)\n",
    "```"
   ]
  },
  {
   "cell_type": "code",
   "execution_count": 26,
   "metadata": {},
   "outputs": [
    {
     "ename": "NameError",
     "evalue": "name 'results_df' is not defined",
     "output_type": "error",
     "traceback": [
      "\u001b[0;31m---------------------------------------------------------------------------\u001b[0m",
      "\u001b[0;31mNameError\u001b[0m                                 Traceback (most recent call last)",
      "\u001b[0;32m<ipython-input-26-ec96fb0cb981>\u001b[0m in \u001b[0;36m<module>\u001b[0;34m()\u001b[0m\n\u001b[0;32m----> 1\u001b[0;31m \u001b[0mresults_df\u001b[0m\u001b[0;34m.\u001b[0m\u001b[0minfo\u001b[0m\u001b[0;34m(\u001b[0m\u001b[0;34m)\u001b[0m\u001b[0;34m\u001b[0m\u001b[0m\n\u001b[0m",
      "\u001b[0;31mNameError\u001b[0m: name 'results_df' is not defined"
     ]
    }
   ],
   "source": [
    "results_df.info()"
   ]
  },
  {
   "cell_type": "code",
   "execution_count": 44,
   "metadata": {},
   "outputs": [
    {
     "data": {
      "text/plain": [
       "restaurant\n",
       "Starbucks             3849\n",
       "Dunkin' Donuts        2850\n",
       "Sheetz                1054\n",
       "Sonic                  982\n",
       "Pizza Hut              972\n",
       "Golden Corral          654\n",
       "Jersey Mike's Subs     616\n",
       "Dominos                557\n",
       "Perkins                553\n",
       "Jason's Deli           522\n",
       "Name: item_description, dtype: int64"
      ]
     },
     "execution_count": 44,
     "metadata": {},
     "output_type": "execute_result"
    }
   ],
   "source": [
    "results_df.groupby('restaurant')[['restaurant', 'item_description']].count().nlargest(10, 'item_description')['item_description']"
   ]
  },
  {
   "cell_type": "code",
   "execution_count": 22,
   "metadata": {},
   "outputs": [
    {
     "data": {
      "text/plain": [
       "count     25196\n",
       "unique      992\n",
       "top           0\n",
       "freq        924\n",
       "Name: calories, dtype: object"
      ]
     },
     "execution_count": 22,
     "metadata": {},
     "output_type": "execute_result"
    }
   ],
   "source": [
    "results_df.calories.describe(include = 'all')"
   ]
  },
  {
   "cell_type": "code",
   "execution_count": 24,
   "metadata": {},
   "outputs": [
    {
     "data": {
      "text/plain": [
       "5804"
      ]
     },
     "execution_count": 24,
     "metadata": {},
     "output_type": "execute_result"
    }
   ],
   "source": [
    "results_df.calories.isnull().sum()"
   ]
  },
  {
   "cell_type": "code",
   "execution_count": 45,
   "metadata": {},
   "outputs": [
    {
     "data": {
      "text/html": [
       "<div>\n",
       "<style scoped>\n",
       "    .dataframe tbody tr th:only-of-type {\n",
       "        vertical-align: middle;\n",
       "    }\n",
       "\n",
       "    .dataframe tbody tr th {\n",
       "        vertical-align: top;\n",
       "    }\n",
       "\n",
       "    .dataframe thead th {\n",
       "        text-align: right;\n",
       "    }\n",
       "</style>\n",
       "<table border=\"1\" class=\"dataframe\">\n",
       "  <thead>\n",
       "    <tr style=\"text-align: right;\">\n",
       "      <th></th>\n",
       "      <th>restaurant</th>\n",
       "      <th>calories</th>\n",
       "    </tr>\n",
       "  </thead>\n",
       "  <tbody>\n",
       "    <tr>\n",
       "      <th>count</th>\n",
       "      <td>5804</td>\n",
       "      <td>0.0</td>\n",
       "    </tr>\n",
       "    <tr>\n",
       "      <th>unique</th>\n",
       "      <td>81</td>\n",
       "      <td>0.0</td>\n",
       "    </tr>\n",
       "    <tr>\n",
       "      <th>top</th>\n",
       "      <td>Dunkin' Donuts</td>\n",
       "      <td>NaN</td>\n",
       "    </tr>\n",
       "    <tr>\n",
       "      <th>freq</th>\n",
       "      <td>1900</td>\n",
       "      <td>NaN</td>\n",
       "    </tr>\n",
       "  </tbody>\n",
       "</table>\n",
       "</div>"
      ],
      "text/plain": [
       "            restaurant  calories\n",
       "count             5804       0.0\n",
       "unique              81       0.0\n",
       "top     Dunkin' Donuts       NaN\n",
       "freq              1900       NaN"
      ]
     },
     "execution_count": 45,
     "metadata": {},
     "output_type": "execute_result"
    }
   ],
   "source": [
    "import numpy as np\n",
    "results_df[results_df.calories.isnull()][['restaurant', 'calories']].describe()"
   ]
  },
  {
   "cell_type": "code",
   "execution_count": 24,
   "metadata": {},
   "outputs": [
    {
     "ename": "NameError",
     "evalue": "name 'results_df' is not defined",
     "output_type": "error",
     "traceback": [
      "\u001b[0;31m---------------------------------------------------------------------------\u001b[0m",
      "\u001b[0;31mNameError\u001b[0m                                 Traceback (most recent call last)",
      "\u001b[0;32m<ipython-input-24-f6efed0ef146>\u001b[0m in \u001b[0;36m<module>\u001b[0;34m()\u001b[0m\n\u001b[0;32m----> 1\u001b[0;31m \u001b[0mresults_df\u001b[0m\u001b[0;34m[\u001b[0m\u001b[0mresults_df\u001b[0m\u001b[0;34m.\u001b[0m\u001b[0mrestaurant\u001b[0m \u001b[0;34m==\u001b[0m \u001b[0;34m\"Dunkin' Donuts\"\u001b[0m\u001b[0;34m]\u001b[0m\u001b[0;34m[\u001b[0m\u001b[0;34m[\u001b[0m\u001b[0;34m'item_description'\u001b[0m\u001b[0;34m,\u001b[0m \u001b[0;34m'calories'\u001b[0m\u001b[0;34m]\u001b[0m\u001b[0;34m]\u001b[0m\u001b[0;34m.\u001b[0m\u001b[0mhead\u001b[0m\u001b[0;34m(\u001b[0m\u001b[0;34m)\u001b[0m\u001b[0;34m\u001b[0m\u001b[0m\n\u001b[0m",
      "\u001b[0;31mNameError\u001b[0m: name 'results_df' is not defined"
     ]
    }
   ],
   "source": [
    "results_df[results_df.restaurant == \"Dunkin' Donuts\"][['item_description', 'calories']].head()"
   ]
  },
  {
   "cell_type": "code",
   "execution_count": null,
   "metadata": {},
   "outputs": [],
   "source": []
  }
 ],
 "metadata": {
  "kernelspec": {
   "display_name": "Python 3",
   "language": "python",
   "name": "python3"
  },
  "language_info": {
   "codemirror_mode": {
    "name": "ipython",
    "version": 3
   },
   "file_extension": ".py",
   "mimetype": "text/x-python",
   "name": "python",
   "nbconvert_exporter": "python",
   "pygments_lexer": "ipython3",
   "version": "3.6.5"
  }
 },
 "nbformat": 4,
 "nbformat_minor": 2
}
