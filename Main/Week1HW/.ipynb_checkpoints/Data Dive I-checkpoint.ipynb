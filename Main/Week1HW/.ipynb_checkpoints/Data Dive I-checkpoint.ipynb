{
 "cells": [
  {
   "cell_type": "markdown",
   "metadata": {},
   "source": [
    "# Data Gov\n",
    "\n",
    "Summary statistics from the 2000 and 2010 United States Census including population, demographics, education, and housing information.\n",
    "\n",
    "The Census Bureau's Population Estimates Program produces estimates of the population for the United States, states, metropolitan and micropolitan statistical areas, counties, cities, towns, as well as for Puerto Rico and its municipios\n",
    " \n",
    "\n",
    "- I found this database from Data.Gov\n",
    "- I thought that this database would be a interesting topic to investigate and learn alittle about what is going on in the USA.\n"
   ]
  },
  {
   "cell_type": "code",
   "execution_count": 2,
   "metadata": {},
   "outputs": [],
   "source": [
    "%matplotlib inline\n",
    "import matplotlib.pyplot as plt\n",
    "import pandas as pd\n",
    "import numpy as np"
   ]
  },
  {
   "cell_type": "code",
   "execution_count": 3,
   "metadata": {},
   "outputs": [],
   "source": [
    "df = pd.read_csv('Census_Demographics.csv')"
   ]
  },
  {
   "cell_type": "code",
   "execution_count": 4,
   "metadata": {},
   "outputs": [
    {
     "name": "stdout",
     "output_type": "stream",
     "text": [
      "<class 'pandas.core.frame.DataFrame'>\n",
      "RangeIndex: 609 entries, 0 to 608\n",
      "Data columns (total 45 columns):\n",
      "UNIQUE ID                              609 non-null int64\n",
      "CENSUS YEAR                            609 non-null int64\n",
      "TRACT                                  609 non-null float64\n",
      "BLOCK GROUP                            609 non-null int64\n",
      "FIPS ID                                609 non-null int64\n",
      "TOTAL POPULATION                       608 non-null float64\n",
      "POPULATION WHITE                       609 non-null int64\n",
      "POPULATION BLACK                       609 non-null int64\n",
      "POPULATION ASIAN                       609 non-null int64\n",
      "POPULATION OTHER                       609 non-null int64\n",
      "POPULATION AMERICAN INDIAN             609 non-null int64\n",
      "POPULATION PACIFIC ISLANDER            303 non-null float64\n",
      "POPULATION ONE RACE                    303 non-null float64\n",
      "POPULATION MULTI RACE                  303 non-null float64\n",
      "POPULATION 25 OLDER                    607 non-null float64\n",
      "MEDIAN AGE                             609 non-null float64\n",
      "MEDIAN HOUSEHOLD INCOME                606 non-null float64\n",
      "HIGH SCHOOL MALE                       605 non-null float64\n",
      "HIGH SCHOOL MORE MALE                  609 non-null int64\n",
      "COLLEGE 1 YR LESS MALE                 549 non-null float64\n",
      "COLLEGE 1 YR MORE MALE                 601 non-null float64\n",
      "ASSOCIATES DEGREE MALE                 477 non-null float64\n",
      "BACHELORS DEGREE MALE                  572 non-null float64\n",
      "MASTERS DEGREE MALE                    529 non-null float64\n",
      "PROFESSIONAL DEGREE MALE               444 non-null float64\n",
      "DOCTORAL DEGREE MALE                   303 non-null float64\n",
      "HIGH SCHOOL FEMALE                     602 non-null float64\n",
      "HIGH SCHOOL MORE FEMALE                607 non-null float64\n",
      "COLLEGE 1 YR LESS FEMALE               570 non-null float64\n",
      "COLLEGE 1 YR MORE FEMALE               604 non-null float64\n",
      "ASSOCIATES DEGREE FEMALE               510 non-null float64\n",
      "BACHELORS DEGREE FEMALE                594 non-null float64\n",
      "MASTERS DEGREE FEMALE                  558 non-null float64\n",
      "PROFESSIONAL DEGREE FEMALE             428 non-null float64\n",
      "DOCTORAL DEGREE FEMALE                 384 non-null float64\n",
      "PERCENT 25 YR OVER HIGH SCHOOL MORE    607 non-null object\n",
      "HOUSING UNITS                          609 non-null int64\n",
      "OCCUPIED HOUSING UNITS                 607 non-null float64\n",
      "OWNER OCCUPIED HOUSING                 604 non-null float64\n",
      "RENTER OCCUPIED HOUSING                604 non-null float64\n",
      "PERCENT OWNER OCCUPIED                 603 non-null object\n",
      "PERCENT RENTER OCCUPIED                603 non-null object\n",
      "MEDIAN HOUSE VALUE OWNER OCCUPIED      594 non-null float64\n",
      "MEDIAN YEAR BUILT                      608 non-null float64\n",
      "VACANCY RATES                          608 non-null object\n",
      "dtypes: float64(30), int64(11), object(4)\n",
      "memory usage: 214.2+ KB\n"
     ]
    }
   ],
   "source": [
    "df.info()"
   ]
  },
  {
   "cell_type": "code",
   "execution_count": 5,
   "metadata": {},
   "outputs": [
    {
     "data": {
      "text/html": [
       "<div>\n",
       "<style scoped>\n",
       "    .dataframe tbody tr th:only-of-type {\n",
       "        vertical-align: middle;\n",
       "    }\n",
       "\n",
       "    .dataframe tbody tr th {\n",
       "        vertical-align: top;\n",
       "    }\n",
       "\n",
       "    .dataframe thead th {\n",
       "        text-align: right;\n",
       "    }\n",
       "</style>\n",
       "<table border=\"1\" class=\"dataframe\">\n",
       "  <thead>\n",
       "    <tr style=\"text-align: right;\">\n",
       "      <th></th>\n",
       "      <th>UNIQUE ID</th>\n",
       "      <th>CENSUS YEAR</th>\n",
       "      <th>TRACT</th>\n",
       "      <th>BLOCK GROUP</th>\n",
       "      <th>FIPS ID</th>\n",
       "      <th>TOTAL POPULATION</th>\n",
       "      <th>POPULATION WHITE</th>\n",
       "      <th>POPULATION BLACK</th>\n",
       "      <th>POPULATION ASIAN</th>\n",
       "      <th>POPULATION OTHER</th>\n",
       "      <th>...</th>\n",
       "      <th>PERCENT 25 YR OVER HIGH SCHOOL MORE</th>\n",
       "      <th>HOUSING UNITS</th>\n",
       "      <th>OCCUPIED HOUSING UNITS</th>\n",
       "      <th>OWNER OCCUPIED HOUSING</th>\n",
       "      <th>RENTER OCCUPIED HOUSING</th>\n",
       "      <th>PERCENT OWNER OCCUPIED</th>\n",
       "      <th>PERCENT RENTER OCCUPIED</th>\n",
       "      <th>MEDIAN HOUSE VALUE OWNER OCCUPIED</th>\n",
       "      <th>MEDIAN YEAR BUILT</th>\n",
       "      <th>VACANCY RATES</th>\n",
       "    </tr>\n",
       "  </thead>\n",
       "  <tbody>\n",
       "    <tr>\n",
       "      <th>0</th>\n",
       "      <td>2000220330001001</td>\n",
       "      <td>2000</td>\n",
       "      <td>1.0</td>\n",
       "      <td>1</td>\n",
       "      <td>220330001001</td>\n",
       "      <td>587.0</td>\n",
       "      <td>107</td>\n",
       "      <td>474</td>\n",
       "      <td>0</td>\n",
       "      <td>1</td>\n",
       "      <td>...</td>\n",
       "      <td>39%</td>\n",
       "      <td>242</td>\n",
       "      <td>209.0</td>\n",
       "      <td>108.0</td>\n",
       "      <td>101.0</td>\n",
       "      <td>52%</td>\n",
       "      <td>48%</td>\n",
       "      <td>43300.0</td>\n",
       "      <td>1969.0</td>\n",
       "      <td>8.800000000000001%</td>\n",
       "    </tr>\n",
       "    <tr>\n",
       "      <th>1</th>\n",
       "      <td>2000220330001002</td>\n",
       "      <td>2000</td>\n",
       "      <td>1.0</td>\n",
       "      <td>2</td>\n",
       "      <td>220330001002</td>\n",
       "      <td>1088.0</td>\n",
       "      <td>71</td>\n",
       "      <td>994</td>\n",
       "      <td>4</td>\n",
       "      <td>1</td>\n",
       "      <td>...</td>\n",
       "      <td>27%</td>\n",
       "      <td>382</td>\n",
       "      <td>354.0</td>\n",
       "      <td>143.0</td>\n",
       "      <td>211.0</td>\n",
       "      <td>40%</td>\n",
       "      <td>60%</td>\n",
       "      <td>40200.0</td>\n",
       "      <td>1967.0</td>\n",
       "      <td>8.800000000000001%</td>\n",
       "    </tr>\n",
       "    <tr>\n",
       "      <th>2</th>\n",
       "      <td>2000220330002001</td>\n",
       "      <td>2000</td>\n",
       "      <td>2.0</td>\n",
       "      <td>1</td>\n",
       "      <td>220330002001</td>\n",
       "      <td>1273.0</td>\n",
       "      <td>380</td>\n",
       "      <td>875</td>\n",
       "      <td>6</td>\n",
       "      <td>4</td>\n",
       "      <td>...</td>\n",
       "      <td>40%</td>\n",
       "      <td>584</td>\n",
       "      <td>511.0</td>\n",
       "      <td>274.0</td>\n",
       "      <td>237.0</td>\n",
       "      <td>54%</td>\n",
       "      <td>46%</td>\n",
       "      <td>50900.0</td>\n",
       "      <td>1966.0</td>\n",
       "      <td>12.5%</td>\n",
       "    </tr>\n",
       "    <tr>\n",
       "      <th>3</th>\n",
       "      <td>2000220330002002</td>\n",
       "      <td>2000</td>\n",
       "      <td>2.0</td>\n",
       "      <td>2</td>\n",
       "      <td>220330002002</td>\n",
       "      <td>1268.0</td>\n",
       "      <td>166</td>\n",
       "      <td>1094</td>\n",
       "      <td>1</td>\n",
       "      <td>0</td>\n",
       "      <td>...</td>\n",
       "      <td>29%</td>\n",
       "      <td>475</td>\n",
       "      <td>463.0</td>\n",
       "      <td>188.0</td>\n",
       "      <td>275.0</td>\n",
       "      <td>41%</td>\n",
       "      <td>59%</td>\n",
       "      <td>50000.0</td>\n",
       "      <td>1969.0</td>\n",
       "      <td>21.7%</td>\n",
       "    </tr>\n",
       "    <tr>\n",
       "      <th>4</th>\n",
       "      <td>2000220330002003</td>\n",
       "      <td>2000</td>\n",
       "      <td>2.0</td>\n",
       "      <td>3</td>\n",
       "      <td>220330002003</td>\n",
       "      <td>676.0</td>\n",
       "      <td>91</td>\n",
       "      <td>557</td>\n",
       "      <td>17</td>\n",
       "      <td>0</td>\n",
       "      <td>...</td>\n",
       "      <td>37%</td>\n",
       "      <td>375</td>\n",
       "      <td>330.0</td>\n",
       "      <td>97.0</td>\n",
       "      <td>233.0</td>\n",
       "      <td>29%</td>\n",
       "      <td>71%</td>\n",
       "      <td>67100.0</td>\n",
       "      <td>1981.0</td>\n",
       "      <td>17.899999999999999%</td>\n",
       "    </tr>\n",
       "  </tbody>\n",
       "</table>\n",
       "<p>5 rows × 45 columns</p>\n",
       "</div>"
      ],
      "text/plain": [
       "          UNIQUE ID  CENSUS YEAR  TRACT  BLOCK GROUP       FIPS ID  \\\n",
       "0  2000220330001001         2000    1.0            1  220330001001   \n",
       "1  2000220330001002         2000    1.0            2  220330001002   \n",
       "2  2000220330002001         2000    2.0            1  220330002001   \n",
       "3  2000220330002002         2000    2.0            2  220330002002   \n",
       "4  2000220330002003         2000    2.0            3  220330002003   \n",
       "\n",
       "   TOTAL POPULATION  POPULATION WHITE  POPULATION BLACK  POPULATION ASIAN  \\\n",
       "0             587.0               107               474                 0   \n",
       "1            1088.0                71               994                 4   \n",
       "2            1273.0               380               875                 6   \n",
       "3            1268.0               166              1094                 1   \n",
       "4             676.0                91               557                17   \n",
       "\n",
       "   POPULATION OTHER         ...           PERCENT 25 YR OVER HIGH SCHOOL MORE  \\\n",
       "0                 1         ...                                           39%   \n",
       "1                 1         ...                                           27%   \n",
       "2                 4         ...                                           40%   \n",
       "3                 0         ...                                           29%   \n",
       "4                 0         ...                                           37%   \n",
       "\n",
       "   HOUSING UNITS  OCCUPIED HOUSING UNITS  OWNER OCCUPIED HOUSING  \\\n",
       "0            242                   209.0                   108.0   \n",
       "1            382                   354.0                   143.0   \n",
       "2            584                   511.0                   274.0   \n",
       "3            475                   463.0                   188.0   \n",
       "4            375                   330.0                    97.0   \n",
       "\n",
       "   RENTER OCCUPIED HOUSING  PERCENT OWNER OCCUPIED  PERCENT RENTER OCCUPIED  \\\n",
       "0                    101.0                     52%                      48%   \n",
       "1                    211.0                     40%                      60%   \n",
       "2                    237.0                     54%                      46%   \n",
       "3                    275.0                     41%                      59%   \n",
       "4                    233.0                     29%                      71%   \n",
       "\n",
       "   MEDIAN HOUSE VALUE OWNER OCCUPIED  MEDIAN YEAR BUILT        VACANCY RATES  \n",
       "0                            43300.0             1969.0   8.800000000000001%  \n",
       "1                            40200.0             1967.0   8.800000000000001%  \n",
       "2                            50900.0             1966.0                12.5%  \n",
       "3                            50000.0             1969.0                21.7%  \n",
       "4                            67100.0             1981.0  17.899999999999999%  \n",
       "\n",
       "[5 rows x 45 columns]"
      ]
     },
     "execution_count": 5,
     "metadata": {},
     "output_type": "execute_result"
    }
   ],
   "source": [
    "df.head()"
   ]
  },
  {
   "cell_type": "code",
   "execution_count": 6,
   "metadata": {},
   "outputs": [
    {
     "data": {
      "text/plain": [
       "<pandas.core.groupby.groupby.DataFrameGroupBy object at 0x10d187dd8>"
      ]
     },
     "execution_count": 6,
     "metadata": {},
     "output_type": "execute_result"
    }
   ],
   "source": [
    "pop = df.groupby('POPULATION PACIFIC ISLANDER')\n",
    "pop"
   ]
  },
  {
   "cell_type": "code",
   "execution_count": 7,
   "metadata": {},
   "outputs": [
    {
     "data": {
      "text/plain": [
       "POPULATION PACIFIC ISLANDER\n",
       "0.0     245\n",
       "1.0      28\n",
       "2.0      15\n",
       "3.0       4\n",
       "4.0       3\n",
       "5.0       5\n",
       "6.0       1\n",
       "7.0       1\n",
       "16.0      1\n",
       "dtype: int64"
      ]
     },
     "execution_count": 7,
     "metadata": {},
     "output_type": "execute_result"
    }
   ],
   "source": [
    "pop.size()"
   ]
  },
  {
   "cell_type": "code",
   "execution_count": 9,
   "metadata": {},
   "outputs": [
    {
     "data": {
      "text/plain": [
       "<matplotlib.axes._subplots.AxesSubplot at 0x118ecf5c0>"
      ]
     },
     "execution_count": 9,
     "metadata": {},
     "output_type": "execute_result"
    },
    {
     "data": {
      "image/png": "[encoded data removed]",
      "text/plain": [
       "<Figure size 432x288 with 1 Axes>"
      ]
     },
     "metadata": {},
     "output_type": "display_data"
    }
   ],
   "source": [
    "df['POPULATION PACIFIC ISLANDER'].hist()"
   ]
  },
  {
   "cell_type": "code",
   "execution_count": 15,
   "metadata": {},
   "outputs": [],
   "source": [
    "ppiplot = df['POPULATION PACIFIC ISLANDER'].value_counts()"
   ]
  },
  {
   "cell_type": "code",
   "execution_count": 16,
   "metadata": {},
   "outputs": [
    {
     "data": {
      "text/plain": [
       "0.0     245\n",
       "1.0      28\n",
       "2.0      15\n",
       "5.0       5\n",
       "3.0       4\n",
       "4.0       3\n",
       "7.0       1\n",
       "6.0       1\n",
       "16.0      1\n",
       "Name: POPULATION PACIFIC ISLANDER, dtype: int64"
      ]
     },
     "execution_count": 16,
     "metadata": {},
     "output_type": "execute_result"
    }
   ],
   "source": [
    "ppiplot"
   ]
  },
  {
   "cell_type": "code",
   "execution_count": 18,
   "metadata": {},
   "outputs": [
    {
     "data": {
      "text/plain": [
       "(9,)"
      ]
     },
     "execution_count": 18,
     "metadata": {},
     "output_type": "execute_result"
    }
   ],
   "source": [
    "ppiplot.shape"
   ]
  },
  {
   "cell_type": "code",
   "execution_count": 19,
   "metadata": {},
   "outputs": [
    {
     "data": {
      "text/plain": [
       "0.0    245\n",
       "1.0     28\n",
       "2.0     15\n",
       "5.0      5\n",
       "Name: POPULATION PACIFIC ISLANDER, dtype: int64"
      ]
     },
     "execution_count": 19,
     "metadata": {},
     "output_type": "execute_result"
    }
   ],
   "source": [
    "ppiplot[:5]"
   ]
  },
  {
   "cell_type": "code",
   "execution_count": 20,
   "metadata": {},
   "outputs": [
    {
     "data": {
      "text/plain": [
       "{'whiskers': [<matplotlib.lines.Line2D at 0x1227a20b8>,\n",
       "  <matplotlib.lines.Line2D at 0x1227a2550>],\n",
       " 'caps': [<matplotlib.lines.Line2D at 0x1227a2978>,\n",
       "  <matplotlib.lines.Line2D at 0x1227a2da0>],\n",
       " 'boxes': [<matplotlib.lines.Line2D at 0x122797f28>],\n",
       " 'medians': [<matplotlib.lines.Line2D at 0x1227a9208>],\n",
       " 'fliers': [<matplotlib.lines.Line2D at 0x1227a9630>],\n",
       " 'means': []}"
      ]
     },
     "execution_count": 20,
     "metadata": {},
     "output_type": "execute_result"
    },
    {
     "data": {
      "image/png": "[encoded data removed]",
      "text/plain": [
       "<Figure size 432x288 with 1 Axes>"
      ]
     },
     "metadata": {},
     "output_type": "display_data"
    }
   ],
   "source": [
    "plt.boxplot(ppiplot)"
   ]
  },
  {
   "cell_type": "code",
   "execution_count": null,
   "metadata": {},
   "outputs": [],
   "source": []
  },
  {
   "cell_type": "code",
   "execution_count": null,
   "metadata": {},
   "outputs": [],
   "source": []
  }
 ],
 "metadata": {
  "kernelspec": {
   "display_name": "Python 3",
   "language": "python",
   "name": "python3"
  },
  "language_info": {
   "codemirror_mode": {
    "name": "ipython",
    "version": 3
   },
   "file_extension": ".py",
   "mimetype": "text/x-python",
   "name": "python",
   "nbconvert_exporter": "python",
   "pygments_lexer": "ipython3",
   "version": "3.6.5"
  }
 },
 "nbformat": 4,
 "nbformat_minor": 2
}
