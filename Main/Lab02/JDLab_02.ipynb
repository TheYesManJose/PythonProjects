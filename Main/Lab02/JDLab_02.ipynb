{
 "cells": [
  {
   "cell_type": "markdown",
   "metadata": {},
   "source": [
    "# JD Lab 02"
   ]
  },
  {
   "cell_type": "markdown",
   "metadata": {},
   "source": [
    "Please see the reading from Quetelet posted in slack, and the section from the Porter text can be found online through the library with an EBook version of Trust in Numbers.  \n",
    "\n",
    "If you are interested in map making, for this weeks lab, I ask that you work through the example notebook using Folium, go through Folium's quickstart tutorial (https://python-visualization.github.io/folium/quickstart.html), and find data that you would be interested in producing an interactive map of. (there are many at NYCOpenData)  There are many other Folium tutorials that can be found on the web, and sample notebooks all over the place, don't hesitate to look around.\n",
    "\n",
    "Your project will contain:\n",
    "\n",
    "A map with markers at latitude and longitudes specified in a DataFrame\n",
    "Information from the DataFrame as part of the popup elements on the map\n",
    "\n",
    "BONUS\n",
    "\n",
    "Incorporate a chloropeth map into your work.  Use country, state, or counties to draw boundaries.  This would be great for election results!"
   ]
  },
  {
   "cell_type": "code",
   "execution_count": 2,
   "metadata": {},
   "outputs": [],
   "source": [
    "import folium\n",
    "import pandas as pd"
   ]
  },
  {
   "cell_type": "code",
   "execution_count": 3,
   "metadata": {},
   "outputs": [],
   "source": [
    "df = pd.read_csv('Data/sqf-2017.csv')"
   ]
  },
  {
   "cell_type": "code",
   "execution_count": 4,
   "metadata": {},
   "outputs": [
    {
     "name": "stdout",
     "output_type": "stream",
     "text": [
      "<class 'pandas.core.frame.DataFrame'>\n",
      "RangeIndex: 11629 entries, 0 to 11628\n",
      "Data columns (total 86 columns):\n",
      "STOP_FRISK_ID                                                   11629 non-null int64\n",
      "STOP_FRISK_DATE                                                 11629 non-null object\n",
      "STOP_FRISK_TIME                                                 11624 non-null object\n",
      "YEAR2                                                           11629 non-null int64\n",
      "MONTH2                                                          11629 non-null object\n",
      "DAY2                                                            11629 non-null object\n",
      "STOP_WAS_INITIATED                                              11629 non-null object\n",
      "SPRINT_NUMBER                                                   11202 non-null object\n",
      "RECORD_STATUS_CODE                                              11629 non-null object\n",
      "ISSUING_OFFICER_RANK                                            11629 non-null object\n",
      "ISSUING_OFFICER_COMMAND_CODE                                    11629 non-null int64\n",
      "SUPERVISING_OFFICER_RANK                                        11629 non-null object\n",
      "SUPERVISING_OFFICER_COMMAND_CODE                                11629 non-null int64\n",
      "SUPERVISING_ACTION_CORRESPONDING_ACTIVITY_LOG_ENTRY_REVIEWED    11629 non-null object\n",
      "LOCATION_IN_OUT_CODE                                            11629 non-null object\n",
      "JURISDICTION_CODE                                               11629 non-null object\n",
      "JURISDICTION_DESCRIPTION                                        11629 non-null object\n",
      "OBSERVED_DURATION_MINUTES                                       11629 non-null int64\n",
      "SUSPECTED_CRIME_DESCRIPTION                                     11629 non-null object\n",
      "STOP_DURATION_MINUTES                                           11629 non-null int64\n",
      "OFFICER_EXPLAINED_STOP_FLAG                                     11629 non-null object\n",
      "OFFICER_NOT_EXPLAINED_STOP_DESCRIPTION                          11628 non-null object\n",
      "OTHER_PERSON_STOPPED_FLAG                                       11629 non-null object\n",
      "SUSPECT_ARRESTED_FLAG                                           11629 non-null object\n",
      "SUSPECT_ARREST_NUMBER                                           11629 non-null object\n",
      "SUSPECT_ARREST_OFFENSE                                          11629 non-null object\n",
      "SUMMONS_ISSUED_FLAG                                             11629 non-null object\n",
      "SUMMONS_NUMBER                                                  11629 non-null object\n",
      "SUMMONS_OFFENSE_DESCRIPTION                                     11629 non-null object\n",
      "OFFICER_IN_UNIFORM_FLAG                                         11629 non-null object\n",
      "ID_CARD_IDENTIFIES_OFFICER_FLAG                                 11629 non-null object\n",
      "SHIELD_IDENTIFIES_OFFICER_FLAG                                  11629 non-null object\n",
      "VERBAL_IDENTIFIES_OFFICER_FLAG                                  11629 non-null object\n",
      "FRISKED_FLAG                                                    11629 non-null object\n",
      "SEARCHED_FLAG                                                   11629 non-null object\n",
      "OTHER_CONTRABAND_FLAG                                           11629 non-null object\n",
      "FIREARM_FLAG                                                    11629 non-null object\n",
      "KNIFE_CUTTER_FLAG                                               11629 non-null object\n",
      "OTHER_WEAPON_FLAG                                               11629 non-null object\n",
      "WEAPON_FOUND_FLAG                                               11629 non-null object\n",
      "PHYSICAL_FORCE_CEW_FLAG                                         11629 non-null object\n",
      "PHYSICAL_FORCE_DRAW_POINT_FIREARM_FLAG                          11629 non-null object\n",
      "PHYSICAL_FORCE_HANDCUFF_SUSPECT_FLAG                            11629 non-null object\n",
      "PHYSICAL_FORCE_OC_SPRAY_USED_FLAG                               11629 non-null object\n",
      "PHYSICAL_FORCE_OTHER_FLAG                                       11629 non-null object\n",
      "PHYSICAL_FORCE_RESTRAINT_USED_FLAG                              11629 non-null object\n",
      "PHYSICAL_FORCE_VERBAL_INSTRUCTION_FLAG                          11629 non-null object\n",
      "PHYSICAL_FORCE_WEAPON_IMPACT_FLAG                               11629 non-null object\n",
      "BACKROUND_CIRCUMSTANCES_VIOLENT_CRIME_FLAG                      11629 non-null object\n",
      "BACKROUND_CIRCUMSTANCES_SUSPECT_KNOWN_TO_CARRY_WEAPON_FLAG      11629 non-null object\n",
      "SUSPECTS_ACTIONS_CASING_FLAG                                    11629 non-null object\n",
      "SUSPECTS_ACTIONS_CONCEALED_POSSESSION_WEAPON_FLAG               11629 non-null object\n",
      "SUSPECTS_ACTIONS_DECRIPTION_FLAG                                11629 non-null object\n",
      "SUSPECTS_ACTIONS_DRUG_TRANSACTIONS_FLAG                         11629 non-null object\n",
      "SUSPECTS_ACTIONS_IDENTIFY_CRIME_PATTERN_FLAG                    11629 non-null object\n",
      "SUSPECTS_ACTIONS_LOOKOUT_FLAG                                   11629 non-null object\n",
      "SUSPECTS_ACTIONS_OTHER_FLAG                                     11629 non-null object\n",
      "SUSPECTS_ACTIONS_PROXIMITY_TO_SCENE_FLAG                        11629 non-null object\n",
      "SEARCH_BASIS_ADMISSION_FLAG                                     11629 non-null object\n",
      "SEARCH_BASIS_CONSENT_FLAG                                       11629 non-null object\n",
      "SEARCH_BASIS_HARD_OBJECT_FLAG                                   11629 non-null object\n",
      "SEARCH_BASIS_INCIDENTAL_TO_ARREST_FLAG                          11629 non-null object\n",
      "SEARCH_BASIS_OTHER_FLAG                                         11629 non-null object\n",
      "SEARCH_BASIS_OUTLINE_FLAG                                       11629 non-null object\n",
      "DEMEANOR_CODE                                                   11629 non-null object\n",
      "DEMEANOR_OF_PERSON_STOPPED                                      11588 non-null object\n",
      "SUSPECT_REPORTED_AGE                                            11629 non-null object\n",
      "SUSPECT_SEX                                                     11629 non-null object\n",
      "SUSPECT_RACE_DESCRIPTION                                        11629 non-null object\n",
      "SUSPECT_HEIGHT                                                  11629 non-null object\n",
      "SUSPECT_WEIGHT                                                  11629 non-null object\n",
      "SUSPECT_BODY_BUILD_TYPE                                         11629 non-null object\n",
      "SUSPECT_EYE_COLOR                                               11629 non-null object\n",
      "SUSPECT_HAIR_COLOR                                              11629 non-null object\n",
      "SUSPECT_OTHER_DESCRIPTION                                       10607 non-null object\n",
      "STOP_LOCATION_PRECINCT                                          11629 non-null object\n",
      "STOP_LOCATION_SECTOR_CODE                                       11629 non-null object\n",
      "STOP_LOCATION_APARTMENT                                         11604 non-null object\n",
      "STOP_LOCATION_FULL_ADDRESS                                      11629 non-null object\n",
      "STOP_LOCATION_PREMISES_NAME                                     11629 non-null object\n",
      "STOP_LOCATION_STREET_NAME                                       11629 non-null object\n",
      "STOP_LOCATION_X                                                 11629 non-null object\n",
      "STOP_LOCATION_Y                                                 11629 non-null object\n",
      "STOP_LOCATION_ZIP_CODE                                          11629 non-null object\n",
      "STOP_LOCATION_PATROL_BORO_NAME                                  11629 non-null object\n",
      "STOP_LOCATION_BORO_NAME                                         11629 non-null object\n",
      "dtypes: int64(6), object(80)\n",
      "memory usage: 7.6+ MB\n"
     ]
    }
   ],
   "source": [
    "df.info()"
   ]
  },
  {
   "cell_type": "code",
   "execution_count": 48,
   "metadata": {},
   "outputs": [
    {
     "data": {
      "text/plain": [
       "STOP_LOCATION_BORO_NAME  SUSPECT_RACE_DESCRIPTION\n",
       "BRONX                    (null)                        43\n",
       "                         ASIAN/PAC.ISL                 12\n",
       "                         BLACK                       1307\n",
       "                         BLACK HISPANIC               362\n",
       "                         WHITE                         65\n",
       "                         WHITE HISPANIC               684\n",
       "BROOKLYN                 (null)                        75\n",
       "                         ASIAN/PAC.ISL                 28\n",
       "                         BLACK                       2263\n",
       "                         BLACK HISPANIC               156\n",
       "                         WHITE                        319\n",
       "                         WHITE HISPANIC               487\n",
       "MANHATTAN                (null)                        48\n",
       "                         AMER IND                       4\n",
       "                         ASIAN/PAC.ISL                 32\n",
       "                         BLACK                       1442\n",
       "                         BLACK HISPANIC               294\n",
       "                         WHITE                        240\n",
       "                         WHITE HISPANIC               711\n",
       "QUEENS                   (null)                        83\n",
       "                         AMER IND                       4\n",
       "                         ASIAN/PAC.ISL                127\n",
       "                         BLACK                       1018\n",
       "                         BLACK HISPANIC               116\n",
       "                         WHITE                        211\n",
       "                         WHITE HISPANIC               520\n",
       "STATEN IS                (null)                        14\n",
       "                         AMER IND                       1\n",
       "                         ASIAN/PAC.ISL                  4\n",
       "                         BLACK                        303\n",
       "                         BLACK HISPANIC                20\n",
       "                         WHITE                        134\n",
       "                         WHITE HISPANIC                70\n",
       "Name: FRISKED_FLAG, dtype: int64"
      ]
     },
     "execution_count": 48,
     "metadata": {},
     "output_type": "execute_result"
    }
   ],
   "source": [
    "five_boroughs = df[(df['STOP_LOCATION_BORO_NAME'] == 'MANHATTAN') | (df['STOP_LOCATION_BORO_NAME'] == 'BRONX') | (df['STOP_LOCATION_BORO_NAME'] == 'BROOKLYN') | (df['STOP_LOCATION_BORO_NAME'] == 'STATEN IS') | (df['STOP_LOCATION_BORO_NAME'] ==  'QUEENS')]\n",
    "five_boroughs.groupby(['STOP_LOCATION_BORO_NAME','SUSPECT_RACE_DESCRIPTION'])['FRISKED_FLAG'].count()"
   ]
  },
  {
   "cell_type": "code",
   "execution_count": 10,
   "metadata": {},
   "outputs": [],
   "source": [
    "nyc = folium.Map(location=[40.730610, -73.935242])"
   ]
  },
  {
   "cell_type": "code",
   "execution_count": 11,
   "metadata": {},
   "outputs": [
    {
     "data": {
      "text/html": [
       "<div style=\"width:100%;\"><div style=\"position:relative;width:100%;height:0;padding-bottom:60%;\"><iframe src=\"data:text/html;charset=utf-8;base64,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\" style=\"position:absolute;width:100%;height:100%;left:0;top:0;border:none !important;\" allowfullscreen webkitallowfullscreen mozallowfullscreen></iframe></div></div>"
      ],
      "text/plain": [
       "<folium.folium.Map at 0x10d10a898>"
      ]
     },
     "execution_count": 11,
     "metadata": {},
     "output_type": "execute_result"
    }
   ],
   "source": [
    "nyc"
   ]
  },
  {
   "cell_type": "code",
   "execution_count": 12,
   "metadata": {},
   "outputs": [],
   "source": [
    "nyc.save('HTML/index_map.html')"
   ]
  },
  {
   "cell_type": "code",
   "execution_count": 70,
   "metadata": {},
   "outputs": [
    {
     "data": {
      "text/html": [
       "<div style=\"width:100%;\"><div style=\"position:relative;width:100%;height:0;padding-bottom:60%;\"><iframe src=\"data:text/html;charset=utf-8;base64,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\" style=\"position:absolute;width:100%;height:100%;left:0;top:0;border:none !important;\" allowfullscreen webkitallowfullscreen mozallowfullscreen></iframe></div></div>"
      ],
      "text/plain": [
       "<folium.folium.Map at 0x10d5c0198>"
      ]
     },
     "execution_count": 70,
     "metadata": {},
     "output_type": "execute_result"
    }
   ],
   "source": [
    "tooltip = 'Click me!'\n",
    "nyc = folium.Map(\n",
    "    location=[40.730610, -73.935242],\n",
    "    zoom_start=9,\n",
    "    tiles='Stamen Terrain'\n",
    ")\n",
    "\n",
    "\n",
    "\n",
    "folium.Marker([40.837048, -73.865433], popup='<b>Bronx</b><br/><i>Total Police Stops</i><br/><ul><li>ASIAN/PAC.ISL 12</li><li>BLACK 1307</li><li>BLACK HISPANIC 362</li><li>WHITE 65</li><li>WHITE HISPANIC 684</li></ul>').add_to(nyc)\n",
    "folium.Marker([40.650002, -73.949997], popup='<b>Brooklyn</b><br/><i>Total Police Stops</i><br/><ul><li>ASIAN/PAC.ISL 28</li><li>BLACK 2263</li><li>BLACK HISPANIC 156</li><li>WHITE 319</li><li>WHITE HISPANIC 487</li></ul>').add_to(nyc)\n",
    "folium.Marker([40.742054, -73.769417], popup='<b>Queen</b><br/><i>Total Police Stops</i><br/><ul><li>ASIAN/PAC.ISL 127</li><li>BLACK 1018</li><li>BLACK HISPANIC 116</li><li>WHITE 211</li><li>WHITE HISPANIC 520</li></ul>').add_to(nyc)\n",
    "folium.Marker([40.758896, -73.985130], popup='<b>Manhattan</b><br/><i>Total Police Stops</i><br/><ul><li>ASIAN/PAC.ISL 32</li><li>BLACK 1442</li><li>BLACK HISPANIC 294</li><li>WHITE 240</li><li>WHITE HISPANIC 711</li></ul>').add_to(nyc)\n",
    "nyc"
   ]
  },
  {
   "cell_type": "code",
   "execution_count": 69,
   "metadata": {},
   "outputs": [
    {
     "data": {
      "text/plain": [
       "<folium.map.Marker at 0x10d5c0208>"
      ]
     },
     "execution_count": 69,
     "metadata": {},
     "output_type": "execute_result"
    }
   ],
   "source": [
    "nyc = folium.Map(\n",
    "    location=[45.372, -121.6972],\n",
    "    zoom_start=12,\n",
    "    tiles='Stamen Terrain'\n",
    ")\n",
    "\n",
    "folium.Marker(\n",
    "    location=[45.3288, -121.6625],\n",
    "    popup='Mt. Hood Meadows',\n",
    "    icon=folium.Icon(icon='cloud')\n",
    ").add_to(nyc)\n",
    "\n",
    "folium.Marker(\n",
    "    location=[45.3311, -121.7113],\n",
    "    popup='Timberline Lodge',\n",
    "    icon=folium.Icon(color='green')\n",
    ").add_to(nyc)\n",
    "\n",
    "folium.Marker(\n",
    "    location=[45.3300, -121.6823],\n",
    "    popup='Some Other Location',\n",
    "    icon=folium.Icon(color='red', icon='info-sign')\n",
    ").add_to(nyc)"
   ]
  },
  {
   "cell_type": "code",
   "execution_count": 9,
   "metadata": {},
   "outputs": [
    {
     "data": {
      "text/html": [
       "<div style=\"width:100%;\"><div style=\"position:relative;width:100%;height:0;padding-bottom:60%;\"><iframe src=\"data:text/html;charset=utf-8;base64,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\" style=\"position:absolute;width:100%;height:100%;left:0;top:0;border:none !important;\" allowfullscreen webkitallowfullscreen mozallowfullscreen></iframe></div></div>"
      ],
      "text/plain": [
       "<folium.folium.Map at 0x10fd23b00>"
      ]
     },
     "execution_count": 9,
     "metadata": {},
     "output_type": "execute_result"
    }
   ],
   "source": [
    "m"
   ]
  },
  {
   "cell_type": "code",
   "execution_count": null,
   "metadata": {},
   "outputs": [],
   "source": [
    "\n",
    "\n",
    "\n",
    "\n",
    "\n"
   ]
  },
  {
   "cell_type": "code",
   "execution_count": null,
   "metadata": {},
   "outputs": [],
   "source": []
  },
  {
   "cell_type": "code",
   "execution_count": null,
   "metadata": {},
   "outputs": [],
   "source": []
  },
  {
   "cell_type": "code",
   "execution_count": null,
   "metadata": {},
   "outputs": [],
   "source": []
  }
 ],
 "metadata": {
  "kernelspec": {
   "display_name": "Python 3",
   "language": "python",
   "name": "python3"
  },
  "language_info": {
   "codemirror_mode": {
    "name": "ipython",
    "version": 3
   },
   "file_extension": ".py",
   "mimetype": "text/x-python",
   "name": "python",
   "nbconvert_exporter": "python",
   "pygments_lexer": "ipython3",
   "version": "3.6.5"
  }
 },
 "nbformat": 4,
 "nbformat_minor": 2
}
