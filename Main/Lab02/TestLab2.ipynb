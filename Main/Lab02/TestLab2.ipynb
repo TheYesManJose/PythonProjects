{
 "cells": [
  {
   "cell_type": "code",
   "execution_count": 5,
   "metadata": {},
   "outputs": [],
   "source": [
    "import pandas as pd\n",
    "import numpy as np\n",
    "import folium\n"
   ]
  },
  {
   "cell_type": "code",
   "execution_count": 7,
   "metadata": {},
   "outputs": [
    {
     "ename": "SyntaxError",
     "evalue": "invalid syntax (<ipython-input-7-06b1f49daaee>, line 19)",
     "output_type": "error",
     "traceback": [
      "\u001b[0;36m  File \u001b[0;32m\"<ipython-input-7-06b1f49daaee>\"\u001b[0;36m, line \u001b[0;32m19\u001b[0m\n\u001b[0;31m    print '{} assaults in the last 10 days'.format(str(len(assaults)))\u001b[0m\n\u001b[0m                                          ^\u001b[0m\n\u001b[0;31mSyntaxError\u001b[0m\u001b[0;31m:\u001b[0m invalid syntax\n"
     ]
    }
   ],
   "source": [
    "#Read in CSV file specifying date field and encoding. Sort by date\n",
    "all_crime = pd.read_csv('Data/sqf-2017.csv', parse_dates = ['Date'],\\\n",
    "                        encoding = 'utf-8').sort_values('Date').reset_index(drop=True)\n",
    "\n",
    "#Clean up the encoding on the Crime Description field \n",
    "all_crime.Descript = all_crime.Descript.apply(lambda x: unicodedata.normalize(\"NFKD\", x))\n",
    "\n",
    "#Create a field that contains a string representation of the date, for later use\n",
    "all_crime['DateStr'] = all_crime.Date.apply(lambda x: x.strftime(\"%Y-%m-%d\"))\n",
    "\n",
    "#Identify those crimes that are categorized as assaults\n",
    "is_assault = all_crime.Category == 'ASSAULT' \n",
    "\n",
    "#Identify those crimes that were committed in the most recent 10 days of the dataset\n",
    "recent = all_crime.Date.isin(all_crime.Date.unique()[-10:]) \n",
    "\n",
    "#Subset the data to get assaults commited within the last 10 days\n",
    "assaults = all_crime[is_assault & recent].drop_duplicates('IncidntNum').reset_index(drop = True)\n",
    "assaults = assaults[['IncidntNum', 'Descript', 'DateStr', 'Time', 'Address','X', 'Y']]\n",
    "print '{} assaults in the last 10 days'.format(str(len(assaults)))"
   ]
  },
  {
   "cell_type": "code",
   "execution_count": null,
   "metadata": {},
   "outputs": [],
   "source": []
  }
 ],
 "metadata": {
  "kernelspec": {
   "display_name": "Python 3",
   "language": "python",
   "name": "python3"
  },
  "language_info": {
   "codemirror_mode": {
    "name": "ipython",
    "version": 3
   },
   "file_extension": ".py",
   "mimetype": "text/x-python",
   "name": "python",
   "nbconvert_exporter": "python",
   "pygments_lexer": "ipython3",
   "version": "3.6.5"
  }
 },
 "nbformat": 4,
 "nbformat_minor": 2
}
