{
 "cells": [
  {
   "cell_type": "code",
   "execution_count": null,
   "metadata": {},
   "outputs": [],
   "source": []
  },
  {
   "cell_type": "markdown",
   "metadata": {},
   "source": [
    "Lab 04: Scraping Reviews\n",
    "GOALS:\n",
    "\n",
    "- Scrape album reviews from Pitchfork\n",
    "- Scrape album images from Pitchfork"
   ]
  },
  {
   "cell_type": "markdown",
   "metadata": {},
   "source": [
    "\n",
    "\n"
   ]
  },
  {
   "cell_type": "code",
   "execution_count": 26,
   "metadata": {},
   "outputs": [],
   "source": [
    "%matplotlib inline\n",
    "import matplotlib.pyplot as plt\n",
    "import requests\n",
    "from bs4 import BeautifulSoup\n",
    "import pandas as pd\n",
    "import numpy as np"
   ]
  },
  {
   "cell_type": "code",
   "execution_count": 27,
   "metadata": {},
   "outputs": [],
   "source": [
    "url = 'https://pitchfork.com/reviews/albums/'"
   ]
  },
  {
   "cell_type": "code",
   "execution_count": 28,
   "metadata": {},
   "outputs": [],
   "source": [
    "response = requests.get(url)"
   ]
  },
  {
   "cell_type": "code",
   "execution_count": 29,
   "metadata": {},
   "outputs": [
    {
     "data": {
      "text/plain": [
       "<Response [200]>"
      ]
     },
     "execution_count": 29,
     "metadata": {},
     "output_type": "execute_result"
    }
   ],
   "source": [
    "requests.get(url)"
   ]
  },
  {
   "cell_type": "code",
   "execution_count": 31,
   "metadata": {},
   "outputs": [],
   "source": [
    "soup = BeautifulSoup(response.text, 'html.parser')"
   ]
  },
  {
   "cell_type": "code",
   "execution_count": 32,
   "metadata": {},
   "outputs": [
    {
     "data": {
      "text/plain": [
       "<div class=\"review\"><a class=\"review__link\" href=\"/reviews/albums/kode9-burial-fabriclive-100/\"><div class=\"review__artwork artwork\"><div class=\"\"><img alt=\"\" src=\"https://media.pitchfork.com/photos/5bb287ae5817d4032087c039/1:1/w_160/FABRICLIVE100.jpeg\"/></div></div><div class=\"review__title\"><ul class=\"artist-list review__title-artist\"><li>Kode9</li><li>Burial</li></ul><h2 class=\"review__title-album\">FABRICLIVE 100</h2></div></a><div class=\"review__meta\"><ul class=\"genre-list genre-list--inline review__genre-list\"><li class=\"genre-list__item\"><a class=\"genre-list__link\" href=\"/reviews/albums/?genre=electronic\">Electronic</a></li><li class=\"genre-list__item\"><a class=\"genre-list__link\" href=\"/reviews/albums/?genre=experimental\">Experimental</a></li></ul><ul class=\"authors\"><li><a class=\"linked display-name display-name--linked\" href=\"/staff/philip-sherburne/\"><span class=\"by\">by: </span>Philip Sherburne</a></li></ul><time class=\"pub-date\" datetime=\"2018-10-02T05:00:00\" title=\"Tue, 02 Oct 2018 05:00:00 GMT\">15 hrs ago</time></div></div>"
      ]
     },
     "execution_count": 32,
     "metadata": {},
     "output_type": "execute_result"
    }
   ],
   "source": [
    "soup.find('div', {'class': 'review'})"
   ]
  },
  {
   "cell_type": "code",
   "execution_count": 33,
   "metadata": {},
   "outputs": [],
   "source": [
    "rev_1 = soup.find('div', {'class': 'review'})"
   ]
  },
  {
   "cell_type": "code",
   "execution_count": 34,
   "metadata": {},
   "outputs": [
    {
     "data": {
      "text/plain": [
       "<li>Kode9</li>"
      ]
     },
     "execution_count": 34,
     "metadata": {},
     "output_type": "execute_result"
    }
   ],
   "source": [
    "rev_1.find('li')"
   ]
  },
  {
   "cell_type": "code",
   "execution_count": 35,
   "metadata": {},
   "outputs": [
    {
     "data": {
      "text/plain": [
       "'Kode9'"
      ]
     },
     "execution_count": 35,
     "metadata": {},
     "output_type": "execute_result"
    }
   ],
   "source": [
    "rev_1.find('li').text"
   ]
  },
  {
   "cell_type": "code",
   "execution_count": 36,
   "metadata": {},
   "outputs": [
    {
     "data": {
      "text/plain": [
       "'Electronic'"
      ]
     },
     "execution_count": 36,
     "metadata": {},
     "output_type": "execute_result"
    }
   ],
   "source": [
    "rev_1.find('li',{'class': 'genre-list__item'}).text"
   ]
  },
  {
   "cell_type": "code",
   "execution_count": 20,
   "metadata": {},
   "outputs": [
    {
     "data": {
      "text/plain": [
       "'by: Philip Sherburne'"
      ]
     },
     "execution_count": 20,
     "metadata": {},
     "output_type": "execute_result"
    }
   ],
   "source": [
    "rev_1.find('ul', {'class': 'authors'}).text"
   ]
  },
  {
   "cell_type": "code",
   "execution_count": 21,
   "metadata": {},
   "outputs": [
    {
     "data": {
      "text/plain": [
       "'15 hrs ago'"
      ]
     },
     "execution_count": 21,
     "metadata": {},
     "output_type": "execute_result"
    }
   ],
   "source": [
    "rev_1.find('time').text"
   ]
  },
  {
   "cell_type": "code",
   "execution_count": 22,
   "metadata": {},
   "outputs": [],
   "source": [
    "reviews = soup.find_all('div', {'class': 'review'})"
   ]
  },
  {
   "cell_type": "code",
   "execution_count": 23,
   "metadata": {},
   "outputs": [
    {
     "data": {
      "text/plain": [
       "12"
      ]
     },
     "execution_count": 23,
     "metadata": {},
     "output_type": "execute_result"
    }
   ],
   "source": [
    "len(reviews)"
   ]
  },
  {
   "cell_type": "code",
   "execution_count": 24,
   "metadata": {},
   "outputs": [
    {
     "data": {
      "text/plain": [
       "[<div class=\"review\"><a class=\"review__link\" href=\"/reviews/albums/kode9-burial-fabriclive-100/\"><div class=\"review__artwork artwork\"><div class=\"\"><img alt=\"\" src=\"https://media.pitchfork.com/photos/5bb287ae5817d4032087c039/1:1/w_160/FABRICLIVE100.jpeg\"/></div></div><div class=\"review__title\"><ul class=\"artist-list review__title-artist\"><li>Kode9</li><li>Burial</li></ul><h2 class=\"review__title-album\">FABRICLIVE 100</h2></div></a><div class=\"review__meta\"><ul class=\"genre-list genre-list--inline review__genre-list\"><li class=\"genre-list__item\"><a class=\"genre-list__link\" href=\"/reviews/albums/?genre=electronic\">Electronic</a></li><li class=\"genre-list__item\"><a class=\"genre-list__link\" href=\"/reviews/albums/?genre=experimental\">Experimental</a></li></ul><ul class=\"authors\"><li><a class=\"linked display-name display-name--linked\" href=\"/staff/philip-sherburne/\"><span class=\"by\">by: </span>Philip Sherburne</a></li></ul><time class=\"pub-date\" datetime=\"2018-10-02T05:00:00\" title=\"Tue, 02 Oct 2018 05:00:00 GMT\">15 hrs ago</time></div></div>,\n",
       " <div class=\"review\"><a class=\"review__link\" href=\"/reviews/albums/jlin-autobiography/\"><div class=\"review__artwork artwork\"><div class=\"\"><img alt=\"Cover of Autobiography\" src=\"https://media.pitchfork.com/photos/5ba9346b25794e0e94eff5f3/1:1/w_160/JLIN_autobiography.jpg\"/></div></div><div class=\"review__title\"><ul class=\"artist-list review__title-artist\"><li>Jlin</li></ul><h2 class=\"review__title-album\">Autobiography</h2></div></a><div class=\"review__meta\"><ul class=\"genre-list genre-list--inline review__genre-list\"><li class=\"genre-list__item\"><a class=\"genre-list__link\" href=\"/reviews/albums/?genre=electronic\">Electronic</a></li></ul><ul class=\"authors\"><li><a class=\"linked display-name display-name--linked\" href=\"/staff/ben-cardew/\"><span class=\"by\">by: </span>Ben Cardew</a></li></ul><time class=\"pub-date\" datetime=\"2018-10-02T05:00:00\" title=\"Tue, 02 Oct 2018 05:00:00 GMT\">15 hrs ago</time></div></div>,\n",
       " <div class=\"review\"><a class=\"review__link\" href=\"/reviews/albums/brocker-way-wild-wild-country-original-score/\"><div class=\"review__artwork artwork\"><div class=\"\"><img alt=\"Cover of Wild Wild Country OST\" src=\"https://media.pitchfork.com/photos/5ba4012526c20b7bcebf0517/1:1/w_160/Wild%20Wild%20Country%20OST.jpg\"/></div></div><div class=\"review__title\"><ul class=\"artist-list review__title-artist\"><li>Brocker Way</li></ul><h2 class=\"review__title-album\">Wild Wild Country (Original Score)</h2></div></a><div class=\"review__meta\"><ul class=\"genre-list genre-list--inline review__genre-list\"><li class=\"genre-list__item\"><a class=\"genre-list__link\" href=\"/reviews/albums/?genre=folk\">Folk/Country</a></li></ul><ul class=\"authors\"><li><a class=\"linked display-name display-name--linked\" href=\"/staff/maggie-lange/\"><span class=\"by\">by: </span>Maggie Lange</a></li></ul><time class=\"pub-date\" datetime=\"2018-10-02T05:00:00\" title=\"Tue, 02 Oct 2018 05:00:00 GMT\">15 hrs ago</time></div></div>]"
      ]
     },
     "execution_count": 24,
     "metadata": {},
     "output_type": "execute_result"
    }
   ],
   "source": [
    "reviews[:3]"
   ]
  },
  {
   "cell_type": "code",
   "execution_count": 25,
   "metadata": {},
   "outputs": [
    {
     "name": "stdout",
     "output_type": "stream",
     "text": [
      "<div class=\"review\"><a class=\"review__link\" href=\"/reviews/albums/kode9-burial-fabriclive-100/\"><div class=\"review__artwork artwork\"><div class=\"\"><img alt=\"\" src=\"https://media.pitchfork.com/photos/5bb287ae5817d4032087c039/1:1/w_160/FABRICLIVE100.jpeg\"/></div></div><div class=\"review__title\"><ul class=\"artist-list review__title-artist\"><li>Kode9</li><li>Burial</li></ul><h2 class=\"review__title-album\">FABRICLIVE 100</h2></div></a><div class=\"review__meta\"><ul class=\"genre-list genre-list--inline review__genre-list\"><li class=\"genre-list__item\"><a class=\"genre-list__link\" href=\"/reviews/albums/?genre=electronic\">Electronic</a></li><li class=\"genre-list__item\"><a class=\"genre-list__link\" href=\"/reviews/albums/?genre=experimental\">Experimental</a></li></ul><ul class=\"authors\"><li><a class=\"linked display-name display-name--linked\" href=\"/staff/philip-sherburne/\"><span class=\"by\">by: </span>Philip Sherburne</a></li></ul><time class=\"pub-date\" datetime=\"2018-10-02T05:00:00\" title=\"Tue, 02 Oct 2018 05:00:00 GMT\">15 hrs ago</time></div></div>\n",
      "<div class=\"review\"><a class=\"review__link\" href=\"/reviews/albums/jlin-autobiography/\"><div class=\"review__artwork artwork\"><div class=\"\"><img alt=\"Cover of Autobiography\" src=\"https://media.pitchfork.com/photos/5ba9346b25794e0e94eff5f3/1:1/w_160/JLIN_autobiography.jpg\"/></div></div><div class=\"review__title\"><ul class=\"artist-list review__title-artist\"><li>Jlin</li></ul><h2 class=\"review__title-album\">Autobiography</h2></div></a><div class=\"review__meta\"><ul class=\"genre-list genre-list--inline review__genre-list\"><li class=\"genre-list__item\"><a class=\"genre-list__link\" href=\"/reviews/albums/?genre=electronic\">Electronic</a></li></ul><ul class=\"authors\"><li><a class=\"linked display-name display-name--linked\" href=\"/staff/ben-cardew/\"><span class=\"by\">by: </span>Ben Cardew</a></li></ul><time class=\"pub-date\" datetime=\"2018-10-02T05:00:00\" title=\"Tue, 02 Oct 2018 05:00:00 GMT\">15 hrs ago</time></div></div>\n",
      "<div class=\"review\"><a class=\"review__link\" href=\"/reviews/albums/brocker-way-wild-wild-country-original-score/\"><div class=\"review__artwork artwork\"><div class=\"\"><img alt=\"Cover of Wild Wild Country OST\" src=\"https://media.pitchfork.com/photos/5ba4012526c20b7bcebf0517/1:1/w_160/Wild%20Wild%20Country%20OST.jpg\"/></div></div><div class=\"review__title\"><ul class=\"artist-list review__title-artist\"><li>Brocker Way</li></ul><h2 class=\"review__title-album\">Wild Wild Country (Original Score)</h2></div></a><div class=\"review__meta\"><ul class=\"genre-list genre-list--inline review__genre-list\"><li class=\"genre-list__item\"><a class=\"genre-list__link\" href=\"/reviews/albums/?genre=folk\">Folk/Country</a></li></ul><ul class=\"authors\"><li><a class=\"linked display-name display-name--linked\" href=\"/staff/maggie-lange/\"><span class=\"by\">by: </span>Maggie Lange</a></li></ul><time class=\"pub-date\" datetime=\"2018-10-02T05:00:00\" title=\"Tue, 02 Oct 2018 05:00:00 GMT\">15 hrs ago</time></div></div>\n",
      "<div class=\"review\"><a class=\"review__link\" href=\"/reviews/albums/lala-lala-the-lamb/\"><div class=\"review__artwork artwork\"><div class=\"\"><img alt=\"Album cover of the Lamb \" src=\"https://media.pitchfork.com/photos/5ba40e19b5a62d2d54af5c09/1:1/w_160/lala%20lala_the%20lamb.jpg\"/></div></div><div class=\"review__title\"><ul class=\"artist-list review__title-artist\"><li>Lala Lala </li></ul><h2 class=\"review__title-album\">The Lamb</h2></div></a><div class=\"review__meta\"><ul class=\"genre-list genre-list--inline review__genre-list\"><li class=\"genre-list__item\"><a class=\"genre-list__link\" href=\"/reviews/albums/?genre=rock\">Rock</a></li></ul><ul class=\"authors\"><li><a class=\"linked display-name display-name--linked\" href=\"/staff/steven-arroyo/\"><span class=\"by\">by: </span>Steven Arroyo</a></li></ul><time class=\"pub-date\" datetime=\"2018-10-02T05:00:00\" title=\"Tue, 02 Oct 2018 05:00:00 GMT\">15 hrs ago</time></div></div>\n",
      "<div class=\"review\"><a class=\"review__link\" href=\"/reviews/albums/lil-wayne-tha-carter-v/\"><div class=\"review__artwork artwork\"><div class=\"\"><img alt=\"\" src=\"https://media.pitchfork.com/photos/5bae925066ff630650f8e82d/1:1/w_160/thacarterv.jpg\"/></div></div><div class=\"review__title\"><ul class=\"artist-list review__title-artist\"><li>Lil Wayne</li></ul><h2 class=\"review__title-album\">Tha Carter V</h2></div></a><div class=\"review__meta\"><ul class=\"genre-list genre-list--inline review__genre-list\"><li class=\"genre-list__item\"><a class=\"genre-list__link\" href=\"/reviews/albums/?genre=rap\">Rap</a></li></ul><ul class=\"authors\"><li><a class=\"linked display-name display-name--linked\" href=\"/staff/evan-rytlewski/\"><span class=\"by\">by: </span>Evan Rytlewski</a></li></ul><time class=\"pub-date\" datetime=\"2018-10-01T05:00:00\" title=\"Mon, 01 Oct 2018 05:00:00 GMT\">October 1 2018</time></div></div>\n",
      "<div class=\"review\"><a class=\"review__link\" href=\"/reviews/albums/mount-eerie-after/\"><div class=\"review__artwork artwork\"><div class=\"\"><img alt=\"\" src=\"https://media.pitchfork.com/photos/5bae8dea23fe4e2d8ebed09b/1:1/w_160/after.jpg\"/></div></div><div class=\"review__title\"><ul class=\"artist-list review__title-artist\"><li>Mount Eerie</li></ul><h2 class=\"review__title-album\">(after)</h2></div></a><div class=\"review__meta\"><ul class=\"genre-list genre-list--inline review__genre-list\"><li class=\"genre-list__item\"><a class=\"genre-list__link\" href=\"/reviews/albums/?genre=rock\">Rock</a></li></ul><ul class=\"authors\"><li><a class=\"linked display-name display-name--linked\" href=\"/staff/nathan-reese/\"><span class=\"by\">by: </span>Nathan Reese</a></li></ul><time class=\"pub-date\" datetime=\"2018-10-01T05:00:00\" title=\"Mon, 01 Oct 2018 05:00:00 GMT\">October 1 2018</time></div></div>\n",
      "<div class=\"review\"><a class=\"review__link\" href=\"/reviews/albums/viagra-boys-street-worms/\"><div class=\"review__artwork artwork\"><div class=\"\"><img alt=\"Album cover of Street Worms \" src=\"https://media.pitchfork.com/photos/5ba52220b5a62d2d54af5c13/1:1/w_160/viagara%20boys_street%20worms.jpg\"/></div></div><div class=\"review__title\"><ul class=\"artist-list review__title-artist\"><li>Viagra Boys</li></ul><h2 class=\"review__title-album\">Street Worms</h2></div></a><div class=\"review__meta\"><ul class=\"genre-list genre-list--inline review__genre-list\"><li class=\"genre-list__item\"><a class=\"genre-list__link\" href=\"/reviews/albums/?genre=rock\">Rock</a></li></ul><ul class=\"authors\"><li><a class=\"linked display-name display-name--linked\" href=\"/staff/nina-corcoran/\"><span class=\"by\">by: </span>Nina Corcoran</a></li></ul><time class=\"pub-date\" datetime=\"2018-10-01T05:00:00\" title=\"Mon, 01 Oct 2018 05:00:00 GMT\">October 1 2018</time></div></div>\n",
      "<div class=\"review\"><a class=\"review__link\" href=\"/reviews/albums/mudhoney-digital-garbage/\"><div class=\"review__artwork artwork\"><div class=\"\"><img alt=\"Cover of Digital Garbage by Mudhoney\" src=\"https://media.pitchfork.com/photos/5babeb3d23fe4e2d8ebecfb9/1:1/w_160/mudhoney_digital%20garbage.jpg\"/></div></div><div class=\"review__title\"><ul class=\"artist-list review__title-artist\"><li>Mudhoney</li></ul><h2 class=\"review__title-album\">Digital Garbage</h2></div></a><div class=\"review__meta\"><ul class=\"genre-list genre-list--inline review__genre-list\"><li class=\"genre-list__item\"><a class=\"genre-list__link\" href=\"/reviews/albums/?genre=rock\">Rock</a></li></ul><ul class=\"authors\"><li><a class=\"linked display-name display-name--linked\" href=\"/staff/stuart-berman/\"><span class=\"by\">by: </span>Stuart Berman</a></li></ul><time class=\"pub-date\" datetime=\"2018-10-01T05:00:00\" title=\"Mon, 01 Oct 2018 05:00:00 GMT\">October 1 2018</time></div></div>\n",
      "<div class=\"review\"><a class=\"review__link\" href=\"/reviews/albums/maxwell-maxwells-urban-hang-suite/\"><div class=\"review__artwork artwork\"><div class=\"\"><img alt=\"\" src=\"https://media.pitchfork.com/photos/5ba8fff766ff630650f8e4ed/1:1/w_160/urban.jpg\"/></div></div><div class=\"review__title\"><ul class=\"artist-list review__title-artist\"><li>Maxwell</li></ul><h2 class=\"review__title-album\">Maxwell’s Urban Hang Suite</h2></div></a><div class=\"review__meta\"><ul class=\"genre-list genre-list--inline review__genre-list\"><li class=\"genre-list__item\"><a class=\"genre-list__link\" href=\"/reviews/albums/?genre=pop\">Pop/R&amp;B</a></li></ul><ul class=\"authors\"><li><a class=\"linked display-name display-name--linked\" href=\"/staff/jason-king/\"><span class=\"by\">by: </span>Jason King</a></li></ul><time class=\"pub-date\" datetime=\"2018-09-30T05:00:00\" title=\"Sun, 30 Sep 2018 05:00:00 GMT\">September 30 2018</time></div></div>\n",
      "<div class=\"review\"><a class=\"review__link\" href=\"/reviews/albums/pinegrove-skylight/\"><div class=\"review__artwork artwork\"><div class=\"\"><img alt=\"\" src=\"https://media.pitchfork.com/photos/5ba910ff26c20b7bcebf06d4/1:1/w_160/skylightcover_fullsize.jpg\"/></div></div><div class=\"review__title\"><ul class=\"artist-list review__title-artist\"><li>Pinegrove</li></ul><h2 class=\"review__title-album\">Skylight</h2></div></a><div class=\"review__meta\"><ul class=\"genre-list genre-list--inline review__genre-list\"><li class=\"genre-list__item\"><a class=\"genre-list__link\" href=\"/reviews/albums/?genre=rock\">Rock</a></li></ul><ul class=\"authors\"><li><a class=\"linked display-name display-name--linked\" href=\"/staff/quinn-moreland/\"><span class=\"by\">by: </span>Quinn Moreland</a></li></ul><time class=\"pub-date\" datetime=\"2018-09-29T05:00:00\" title=\"Sat, 29 Sep 2018 05:00:00 GMT\">September 29 2018</time></div></div>\n",
      "<div class=\"review\"><a class=\"review__link\" href=\"/reviews/albums/joe-strummer-joe-strummer-001/\"><div class=\"review__artwork artwork\"><div class=\"\"><img alt=\"Cover of Joe Strummer 001\" src=\"https://media.pitchfork.com/photos/5ba954aeb467a1075a1b9685/1:1/w_160/Joe%20Strummer_Joe%20Strummer%20001.jpg\"/></div></div><div class=\"review__title\"><ul class=\"artist-list review__title-artist\"><li>Joe Strummer</li></ul><h2 class=\"review__title-album\">Joe Strummer 001</h2></div></a><div class=\"review__meta\"><ul class=\"genre-list genre-list--inline review__genre-list\"><li class=\"genre-list__item\"><a class=\"genre-list__link\" href=\"/reviews/albums/?genre=rock\">Rock</a></li></ul><ul class=\"authors\"><li><a class=\"linked display-name display-name--linked\" href=\"/staff/stephen-thomas-erlewine/\"><span class=\"by\">by: </span>Stephen Thomas Erlewine</a></li></ul><time class=\"pub-date\" datetime=\"2018-09-29T05:00:00\" title=\"Sat, 29 Sep 2018 05:00:00 GMT\">September 29 2018</time></div></div>\n",
      "<div class=\"review\"><a class=\"review__link\" href=\"/reviews/albums/lupe-fiasco-drogas-wave/\"><div class=\"review__artwork artwork\"><div class=\"\"><img alt=\"Cover of Drogas Wave\" src=\"https://media.pitchfork.com/photos/5ba9524d23fe4e2d8ebeced0/1:1/w_160/lupe%20fiasco_drogas%20wave.jpg\"/></div></div><div class=\"review__title\"><ul class=\"artist-list review__title-artist\"><li>Lupe Fiasco</li></ul><h2 class=\"review__title-album\">Drogas Wave</h2></div></a><div class=\"review__meta\"><ul class=\"genre-list genre-list--inline review__genre-list\"><li class=\"genre-list__item\"><a class=\"genre-list__link\" href=\"/reviews/albums/?genre=rap\">Rap</a></li></ul><ul class=\"authors\"><li><a class=\"linked display-name display-name--linked\" href=\"/staff/brian-josephs/\"><span class=\"by\">by: </span>Brian Josephs</a></li></ul><time class=\"pub-date\" datetime=\"2018-09-29T05:00:00\" title=\"Sat, 29 Sep 2018 05:00:00 GMT\">September 29 2018</time></div></div>\n"
     ]
    }
   ],
   "source": [
    "for entry in reviews:\n",
    "    print(entry)"
   ]
  },
  {
   "cell_type": "markdown",
   "metadata": {},
   "source": [
    "LEVEL I\n",
    "In the last example intro to webscraping, we extracted basic information from the page containing all reviews on pitchfork.com. Now, your task is first, to scrape the links to each review page. This is akin to clicking on the review, and being taken to the page with the full review."
   ]
  },
  {
   "cell_type": "code",
   "execution_count": null,
   "metadata": {},
   "outputs": [],
   "source": []
  },
  {
   "cell_type": "markdown",
   "metadata": {},
   "source": [
    "At each page, your goal is to scrape the headline, the text of the review, the score as a number, the author, genre, and date. If you're feeling ambitious, grab the sample music files when they exist."
   ]
  },
  {
   "cell_type": "code",
   "execution_count": null,
   "metadata": {},
   "outputs": [],
   "source": []
  },
  {
   "cell_type": "markdown",
   "metadata": {},
   "source": [
    "LEVEL II\n",
    "Go back to the original page of reviews and scroll down. Notice that the url at the top of the page is simply adding numbers as it advances. This pattern will allow you to scrape multiple pages, and gather more reviews from earlier dates.\n",
    "\n",
    "Directly add the next reviews to a new url, and use your pattern above to scrape the additional reviews.\n",
    "Write a loop to go through the next ten pages of reviews and gather each piece."
   ]
  },
  {
   "cell_type": "code",
   "execution_count": null,
   "metadata": {},
   "outputs": [],
   "source": []
  },
  {
   "cell_type": "markdown",
   "metadata": {},
   "source": [
    "LEVEL III\n",
    "Write a loop to go through all reviews available. Save the results as a .csv file. If you were able to scape the images; store these in a folder."
   ]
  },
  {
   "cell_type": "code",
   "execution_count": null,
   "metadata": {},
   "outputs": [],
   "source": []
  },
  {
   "cell_type": "markdown",
   "metadata": {},
   "source": [
    "LEVEL IV\n",
    "It is easy to use the textblob library to add sentiment and polarity of reviews to our DataFrame. We need to convert the text to a TextBlob object, and then use the .polarity and .subjectivity labels of the text as new columns in our DataFrame. Use the example below as a starting place to add two new columns to your dataframe containing the polarity and subjectivity scores for each review."
   ]
  },
  {
   "cell_type": "code",
   "execution_count": null,
   "metadata": {},
   "outputs": [],
   "source": []
  },
  {
   "cell_type": "code",
   "execution_count": 5,
   "metadata": {},
   "outputs": [],
   "source": []
  },
  {
   "cell_type": "code",
   "execution_count": 6,
   "metadata": {},
   "outputs": [
    {
     "ename": "ModuleNotFoundError",
     "evalue": "No module named 'textblob'",
     "output_type": "error",
     "traceback": [
      "\u001b[0;31m---------------------------------------------------------------------------\u001b[0m",
      "\u001b[0;31mModuleNotFoundError\u001b[0m                       Traceback (most recent call last)",
      "\u001b[0;32m<ipython-input-6-beb514e823a4>\u001b[0m in \u001b[0;36m<module>\u001b[0;34m()\u001b[0m\n\u001b[0;32m----> 1\u001b[0;31m \u001b[0;32mfrom\u001b[0m \u001b[0mtextblob\u001b[0m \u001b[0;32mimport\u001b[0m \u001b[0mTextBlob\u001b[0m\u001b[0;34m\u001b[0m\u001b[0m\n\u001b[0m",
      "\u001b[0;31mModuleNotFoundError\u001b[0m: No module named 'textblob'"
     ]
    }
   ],
   "source": []
  },
  {
   "cell_type": "code",
   "execution_count": null,
   "metadata": {},
   "outputs": [],
   "source": []
  },
  {
   "cell_type": "code",
   "execution_count": 7,
   "metadata": {},
   "outputs": [
    {
     "ename": "NameError",
     "evalue": "name 'text' is not defined",
     "output_type": "error",
     "traceback": [
      "\u001b[0;31m---------------------------------------------------------------------------\u001b[0m",
      "\u001b[0;31mNameError\u001b[0m                                 Traceback (most recent call last)",
      "\u001b[0;32m<ipython-input-7-897970a379e8>\u001b[0m in \u001b[0;36m<module>\u001b[0;34m()\u001b[0m\n\u001b[0;32m----> 1\u001b[0;31m \u001b[0mtext\u001b[0m\u001b[0;34m.\u001b[0m\u001b[0msentiment\u001b[0m\u001b[0;34m\u001b[0m\u001b[0m\n\u001b[0m",
      "\u001b[0;31mNameError\u001b[0m: name 'text' is not defined"
     ]
    }
   ],
   "source": []
  },
  {
   "cell_type": "code",
   "execution_count": null,
   "metadata": {},
   "outputs": [],
   "source": []
  },
  {
   "cell_type": "code",
   "execution_count": null,
   "metadata": {},
   "outputs": [],
   "source": []
  }
 ],
 "metadata": {
  "kernelspec": {
   "display_name": "Python 3",
   "language": "python",
   "name": "python3"
  },
  "language_info": {
   "codemirror_mode": {
    "name": "ipython",
    "version": 3
   },
   "file_extension": ".py",
   "mimetype": "text/x-python",
   "name": "python",
   "nbconvert_exporter": "python",
   "pygments_lexer": "ipython3",
   "version": "3.6.5"
  }
 },
 "nbformat": 4,
 "nbformat_minor": 2
}
